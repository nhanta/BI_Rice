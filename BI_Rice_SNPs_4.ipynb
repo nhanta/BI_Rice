{
 "cells": [
  {
   "cell_type": "markdown",
   "metadata": {
    "colab_type": "text",
    "id": "AwfrThn5Uc0f"
   },
   "source": [
    "# Important Variable Selection with SNPs"
   ]
  },
  {
   "cell_type": "markdown",
   "metadata": {
    "colab_type": "text",
    "id": "Ywk4-itkUc0h"
   },
   "source": [
    "Author: Nhan TV"
   ]
  },
  {
   "cell_type": "markdown",
   "metadata": {
    "colab_type": "text",
    "id": "1MqN8kYtUc0i"
   },
   "source": [
    "## Content<br>\n",
    "<strong>1 Data</strong><br>\n",
    "<strong>2  Method</strong><br>\n",
    "2.1 Partial Least Squares <br>\n",
    "2.2 Machine Learning Models<br>\n",
    "<strong>3 Results</strong>\n"
   ]
  },
  {
   "cell_type": "code",
   "execution_count": 1,
   "metadata": {
    "colab": {},
    "colab_type": "code",
    "id": "lVeJOSgKUc0j"
   },
   "outputs": [
    {
     "name": "stderr",
     "output_type": "stream",
     "text": [
      "/usr/local/lib/python3.5/site-packages/sklearn/ensemble/weight_boosting.py:29: DeprecationWarning: numpy.core.umath_tests is an internal NumPy module and should not be imported. It will be removed in a future NumPy release.\n",
      "  from numpy.core.umath_tests import inner1d\n"
     ]
    }
   ],
   "source": [
    "# Import all the libraries that we shall be using\n",
    "import numpy as np\n",
    "import pandas as pd\n",
    "from math import log10\n",
    "#Converting data frames back and forth between rpy2 and pandas\n",
    "\n",
    "import matplotlib.pyplot as plt\n",
    "import seaborn as sns\n",
    "from mpl_toolkits.mplot3d import Axes3D\n",
    "#import tensorflow as tf\n",
    "from sklearn import datasets\n",
    "from scipy import stats\n",
    "%matplotlib inline\n",
    "\n",
    "from sklearn.preprocessing import StandardScaler\n",
    "from sklearn.decomposition import PCA\n",
    "#from keras.wrappers.scikit_learn import KerasRegressor\n",
    "from sklearn.model_selection import GridSearchCV, cross_val_score, KFold\n",
    "from sklearn.metrics import accuracy_score, confusion_matrix, r2_score, mean_absolute_error, mean_squared_error, explained_variance_score\n",
    "from sklearn.cluster import KMeans\n",
    "from sklearn.svm import SVC, SVR\n",
    "from sklearn.linear_model import LogisticRegression, MultiTaskLasso, MultiTaskElasticNet, Lasso, ElasticNet, LassoCV, ElasticNetCV, MultiTaskLassoCV, MultiTaskElasticNetCV\n",
    "from sklearn.naive_bayes import GaussianNB\n",
    "from sklearn.ensemble import RandomForestClassifier, RandomForestRegressor\n",
    "from sklearn import metrics\n",
    "from sklearn.cross_decomposition import PLSRegression\n",
    "from sklearn.model_selection import train_test_split, cross_validate\n",
    "#import statsmodels.formula.api as smf\n",
    "#import statsmodels.api as sm\n",
    "import collections\n",
    "\n",
    "#import xgboost as xgb\n",
    "#from keras.models import Sequential\n",
    "#from keras.layers import Dense\n",
    "#from keras.callbacks import EarlyStopping"
   ]
  },
  {
   "cell_type": "markdown",
   "metadata": {
    "colab_type": "text",
    "id": "wH6iQ50yUc0r"
   },
   "source": [
    "## 1 Data "
   ]
  },
  {
   "cell_type": "markdown",
   "metadata": {
    "colab_type": "text",
    "id": "bFtIvUSekbD7"
   },
   "source": [
    "Load data from AI platform of Google cloud service."
   ]
  },
  {
   "cell_type": "code",
   "execution_count": 2,
   "metadata": {
    "colab": {},
    "colab_type": "code",
    "id": "g_8wfXA4tekU"
   },
   "outputs": [],
   "source": [
    "# Using chunk size to read rice data\n",
    "chunksize = 100\n",
    "X_ct = pd.DataFrame()\n",
    "for chunk in pd.read_csv(\"gs://bi-rice-data/Xcont.csv\",low_memory=False, chunksize=chunksize, memory_map=True):\n",
    "    X_ct = pd.concat([X_ct, chunk])"
   ]
  },
  {
   "cell_type": "code",
   "execution_count": null,
   "metadata": {
    "colab": {
     "base_uri": "https://localhost:8080/",
     "height": 330
    },
    "colab_type": "code",
    "collapsed": true,
    "executionInfo": {
     "elapsed": 1008,
     "status": "ok",
     "timestamp": 1579762641932,
     "user": {
      "displayName": "WST Dahlia",
      "photoUrl": "https://lh3.googleusercontent.com/a-/AAuE7mBkQ7g0fzB6AYnEU4Mxmxbqc5lm-ZMouB7RPaVd=s64",
      "userId": "17563820974603365318"
     },
     "user_tz": -420
    },
    "id": "eW4hhHxAS-7j",
    "jupyter": {
     "outputs_hidden": true
    },
    "outputId": "a03656cf-c080-4847-ecb5-9e46714a73be"
   },
   "outputs": [
    {
     "data": {
      "text/html": [
       "<div>\n",
       "<style scoped>\n",
       "    .dataframe tbody tr th:only-of-type {\n",
       "        vertical-align: middle;\n",
       "    }\n",
       "\n",
       "    .dataframe tbody tr th {\n",
       "        vertical-align: top;\n",
       "    }\n",
       "\n",
       "    .dataframe thead th {\n",
       "        text-align: right;\n",
       "    }\n",
       "</style>\n",
       "<table border=\"1\" class=\"dataframe\">\n",
       "  <thead>\n",
       "    <tr style=\"text-align: right;\">\n",
       "      <th></th>\n",
       "      <th>IID</th>\n",
       "      <th>1178_T</th>\n",
       "      <th>1203_C</th>\n",
       "      <th>1248_A</th>\n",
       "      <th>1282_A</th>\n",
       "      <th>1299_C</th>\n",
       "      <th>1306_A</th>\n",
       "      <th>1792_A</th>\n",
       "      <th>5752_T</th>\n",
       "      <th>6634_A</th>\n",
       "      <th>11334_C</th>\n",
       "      <th>16737_T</th>\n",
       "      <th>17263_C</th>\n",
       "      <th>21012_A</th>\n",
       "      <th>21546_A</th>\n",
       "      <th>22059_A</th>\n",
       "      <th>25777_A</th>\n",
       "      <th>27188_A</th>\n",
       "      <th>28781_T</th>\n",
       "      <th>31071_A</th>\n",
       "      <th>31478_C</th>\n",
       "      <th>31843_A</th>\n",
       "      <th>34721_T</th>\n",
       "      <th>34729_C</th>\n",
       "      <th>35239_A</th>\n",
       "      <th>35405_A</th>\n",
       "      <th>37676_A</th>\n",
       "      <th>41342_G</th>\n",
       "      <th>41749_C</th>\n",
       "      <th>42561_T</th>\n",
       "      <th>42752_T</th>\n",
       "      <th>44681_T</th>\n",
       "      <th>46283_G</th>\n",
       "      <th>46332_A</th>\n",
       "      <th>46705_A</th>\n",
       "      <th>48241_A</th>\n",
       "      <th>48402_G</th>\n",
       "      <th>48494_T</th>\n",
       "      <th>49413_T</th>\n",
       "      <th>49960_A</th>\n",
       "      <th>...</th>\n",
       "      <th>Salt.injury.at.EC12</th>\n",
       "      <th>Salt.injury.at.EC18</th>\n",
       "      <th>Time.to.flowering..from.sowing.</th>\n",
       "      <th>panicle.length</th>\n",
       "      <th>panicle.shattering</th>\n",
       "      <th>ligule.color</th>\n",
       "      <th>leaf.senescence</th>\n",
       "      <th>culm.angle</th>\n",
       "      <th>sterile.lemma.length</th>\n",
       "      <th>leaf.angle</th>\n",
       "      <th>basal.leaf.sheath.color</th>\n",
       "      <th>culm.strength</th>\n",
       "      <th>panicle.axis.attitude</th>\n",
       "      <th>culm.length</th>\n",
       "      <th>secondary.panicle.branching</th>\n",
       "      <th>culm.node.anthocyanin</th>\n",
       "      <th>ligule.length</th>\n",
       "      <th>culm.internode.underlying.colour</th>\n",
       "      <th>scent</th>\n",
       "      <th>collar.color</th>\n",
       "      <th>leaf.blade.pubescence</th>\n",
       "      <th>culm.number</th>\n",
       "      <th>pericarp.colour</th>\n",
       "      <th>ligule.shape</th>\n",
       "      <th>culm.node.underlying.colour</th>\n",
       "      <th>panicle.type</th>\n",
       "      <th>panicle.number.per.plant</th>\n",
       "      <th>leaf.width</th>\n",
       "      <th>panicle.threshability</th>\n",
       "      <th>sterile.lemma.color</th>\n",
       "      <th>culm.internode.anthocyanin</th>\n",
       "      <th>seeding.date</th>\n",
       "      <th>grain.width</th>\n",
       "      <th>endosperm.type</th>\n",
       "      <th>panicle.exsertion</th>\n",
       "      <th>leaf.blade.greenness</th>\n",
       "      <th>lemma.and.palea.pubescence</th>\n",
       "      <th>basal.leaf.sheath.anthocyanin</th>\n",
       "      <th>lemma.and.palea.color</th>\n",
       "      <th>spikelet.fertility</th>\n",
       "    </tr>\n",
       "  </thead>\n",
       "  <tbody>\n",
       "    <tr>\n",
       "      <th>0</th>\n",
       "      <td>IRIS_313-10000</td>\n",
       "      <td>0</td>\n",
       "      <td>2</td>\n",
       "      <td>0</td>\n",
       "      <td>0</td>\n",
       "      <td>0</td>\n",
       "      <td>0</td>\n",
       "      <td>0</td>\n",
       "      <td>2</td>\n",
       "      <td>0</td>\n",
       "      <td>2</td>\n",
       "      <td>0</td>\n",
       "      <td>0</td>\n",
       "      <td>0</td>\n",
       "      <td>0</td>\n",
       "      <td>0</td>\n",
       "      <td>0</td>\n",
       "      <td>0</td>\n",
       "      <td>0</td>\n",
       "      <td>0</td>\n",
       "      <td>2</td>\n",
       "      <td>0</td>\n",
       "      <td>0</td>\n",
       "      <td>0</td>\n",
       "      <td>0</td>\n",
       "      <td>0</td>\n",
       "      <td>0</td>\n",
       "      <td>0</td>\n",
       "      <td>2</td>\n",
       "      <td>2</td>\n",
       "      <td>0</td>\n",
       "      <td>0</td>\n",
       "      <td>0</td>\n",
       "      <td>0</td>\n",
       "      <td>2</td>\n",
       "      <td>2</td>\n",
       "      <td>0</td>\n",
       "      <td>0</td>\n",
       "      <td>0</td>\n",
       "      <td>1</td>\n",
       "      <td>...</td>\n",
       "      <td>5.0</td>\n",
       "      <td>7.0</td>\n",
       "      <td>84</td>\n",
       "      <td>24.0</td>\n",
       "      <td>1.0</td>\n",
       "      <td>11</td>\n",
       "      <td>1.0</td>\n",
       "      <td>3.0</td>\n",
       "      <td>1.0</td>\n",
       "      <td>1.0</td>\n",
       "      <td>60.0</td>\n",
       "      <td>1.0</td>\n",
       "      <td>2.0</td>\n",
       "      <td>72</td>\n",
       "      <td>1.0</td>\n",
       "      <td>NaN</td>\n",
       "      <td>17</td>\n",
       "      <td>60.0</td>\n",
       "      <td>NaN</td>\n",
       "      <td>61</td>\n",
       "      <td>3</td>\n",
       "      <td>12</td>\n",
       "      <td>10.0</td>\n",
       "      <td>2.0</td>\n",
       "      <td>NaN</td>\n",
       "      <td>1.0</td>\n",
       "      <td>NaN</td>\n",
       "      <td>1.4</td>\n",
       "      <td>1.0</td>\n",
       "      <td>20.0</td>\n",
       "      <td>NaN</td>\n",
       "      <td>NaN</td>\n",
       "      <td>3.1</td>\n",
       "      <td>2.0</td>\n",
       "      <td>3.0</td>\n",
       "      <td>63</td>\n",
       "      <td>2.0</td>\n",
       "      <td>NaN</td>\n",
       "      <td>20.0</td>\n",
       "      <td>1.0</td>\n",
       "    </tr>\n",
       "    <tr>\n",
       "      <th>1</th>\n",
       "      <td>IRIS_313-10001</td>\n",
       "      <td>0</td>\n",
       "      <td>0</td>\n",
       "      <td>0</td>\n",
       "      <td>0</td>\n",
       "      <td>0</td>\n",
       "      <td>0</td>\n",
       "      <td>0</td>\n",
       "      <td>0</td>\n",
       "      <td>0</td>\n",
       "      <td>0</td>\n",
       "      <td>0</td>\n",
       "      <td>0</td>\n",
       "      <td>0</td>\n",
       "      <td>0</td>\n",
       "      <td>0</td>\n",
       "      <td>0</td>\n",
       "      <td>0</td>\n",
       "      <td>0</td>\n",
       "      <td>0</td>\n",
       "      <td>0</td>\n",
       "      <td>0</td>\n",
       "      <td>0</td>\n",
       "      <td>0</td>\n",
       "      <td>0</td>\n",
       "      <td>0</td>\n",
       "      <td>0</td>\n",
       "      <td>0</td>\n",
       "      <td>0</td>\n",
       "      <td>0</td>\n",
       "      <td>0</td>\n",
       "      <td>0</td>\n",
       "      <td>0</td>\n",
       "      <td>0</td>\n",
       "      <td>0</td>\n",
       "      <td>0</td>\n",
       "      <td>0</td>\n",
       "      <td>0</td>\n",
       "      <td>0</td>\n",
       "      <td>0</td>\n",
       "      <td>...</td>\n",
       "      <td>5.0</td>\n",
       "      <td>7.0</td>\n",
       "      <td>86</td>\n",
       "      <td>24.0</td>\n",
       "      <td>1.0</td>\n",
       "      <td>11</td>\n",
       "      <td>3.0</td>\n",
       "      <td>1.0</td>\n",
       "      <td>3.0</td>\n",
       "      <td>2.0</td>\n",
       "      <td>60.0</td>\n",
       "      <td>1.0</td>\n",
       "      <td>2.0</td>\n",
       "      <td>74</td>\n",
       "      <td>1.0</td>\n",
       "      <td>NaN</td>\n",
       "      <td>14</td>\n",
       "      <td>60.0</td>\n",
       "      <td>NaN</td>\n",
       "      <td>61</td>\n",
       "      <td>3</td>\n",
       "      <td>9</td>\n",
       "      <td>10.0</td>\n",
       "      <td>2.0</td>\n",
       "      <td>NaN</td>\n",
       "      <td>4.0</td>\n",
       "      <td>NaN</td>\n",
       "      <td>1.3</td>\n",
       "      <td>5.0</td>\n",
       "      <td>20.0</td>\n",
       "      <td>NaN</td>\n",
       "      <td>NaN</td>\n",
       "      <td>2.4</td>\n",
       "      <td>1.0</td>\n",
       "      <td>5.0</td>\n",
       "      <td>63</td>\n",
       "      <td>2.0</td>\n",
       "      <td>NaN</td>\n",
       "      <td>20.0</td>\n",
       "      <td>3.0</td>\n",
       "    </tr>\n",
       "    <tr>\n",
       "      <th>2</th>\n",
       "      <td>IRIS_313-10002</td>\n",
       "      <td>0</td>\n",
       "      <td>0</td>\n",
       "      <td>0</td>\n",
       "      <td>0</td>\n",
       "      <td>0</td>\n",
       "      <td>0</td>\n",
       "      <td>0</td>\n",
       "      <td>0</td>\n",
       "      <td>0</td>\n",
       "      <td>0</td>\n",
       "      <td>0</td>\n",
       "      <td>0</td>\n",
       "      <td>0</td>\n",
       "      <td>0</td>\n",
       "      <td>0</td>\n",
       "      <td>0</td>\n",
       "      <td>0</td>\n",
       "      <td>0</td>\n",
       "      <td>0</td>\n",
       "      <td>0</td>\n",
       "      <td>0</td>\n",
       "      <td>0</td>\n",
       "      <td>0</td>\n",
       "      <td>0</td>\n",
       "      <td>0</td>\n",
       "      <td>0</td>\n",
       "      <td>0</td>\n",
       "      <td>0</td>\n",
       "      <td>0</td>\n",
       "      <td>0</td>\n",
       "      <td>0</td>\n",
       "      <td>0</td>\n",
       "      <td>0</td>\n",
       "      <td>0</td>\n",
       "      <td>0</td>\n",
       "      <td>0</td>\n",
       "      <td>0</td>\n",
       "      <td>0</td>\n",
       "      <td>0</td>\n",
       "      <td>...</td>\n",
       "      <td>7.0</td>\n",
       "      <td>9.0</td>\n",
       "      <td>114</td>\n",
       "      <td>24.0</td>\n",
       "      <td>1.0</td>\n",
       "      <td>11</td>\n",
       "      <td>3.0</td>\n",
       "      <td>3.0</td>\n",
       "      <td>1.0</td>\n",
       "      <td>1.0</td>\n",
       "      <td>60.0</td>\n",
       "      <td>1.0</td>\n",
       "      <td>2.0</td>\n",
       "      <td>60</td>\n",
       "      <td>1.0</td>\n",
       "      <td>NaN</td>\n",
       "      <td>19</td>\n",
       "      <td>41.0</td>\n",
       "      <td>NaN</td>\n",
       "      <td>61</td>\n",
       "      <td>3</td>\n",
       "      <td>20</td>\n",
       "      <td>10.0</td>\n",
       "      <td>2.0</td>\n",
       "      <td>60.0</td>\n",
       "      <td>5.0</td>\n",
       "      <td>NaN</td>\n",
       "      <td>1.2</td>\n",
       "      <td>9.0</td>\n",
       "      <td>20.0</td>\n",
       "      <td>NaN</td>\n",
       "      <td>6/26/91 0:00</td>\n",
       "      <td>2.7</td>\n",
       "      <td>1.0</td>\n",
       "      <td>3.0</td>\n",
       "      <td>60</td>\n",
       "      <td>4.0</td>\n",
       "      <td>NaN</td>\n",
       "      <td>42.0</td>\n",
       "      <td>3.0</td>\n",
       "    </tr>\n",
       "    <tr>\n",
       "      <th>3</th>\n",
       "      <td>IRIS_313-10007</td>\n",
       "      <td>1</td>\n",
       "      <td>2</td>\n",
       "      <td>0</td>\n",
       "      <td>0</td>\n",
       "      <td>1</td>\n",
       "      <td>0</td>\n",
       "      <td>0</td>\n",
       "      <td>0</td>\n",
       "      <td>0</td>\n",
       "      <td>1</td>\n",
       "      <td>0</td>\n",
       "      <td>0</td>\n",
       "      <td>1</td>\n",
       "      <td>0</td>\n",
       "      <td>0</td>\n",
       "      <td>0</td>\n",
       "      <td>0</td>\n",
       "      <td>0</td>\n",
       "      <td>0</td>\n",
       "      <td>2</td>\n",
       "      <td>0</td>\n",
       "      <td>0</td>\n",
       "      <td>0</td>\n",
       "      <td>0</td>\n",
       "      <td>0</td>\n",
       "      <td>0</td>\n",
       "      <td>0</td>\n",
       "      <td>1</td>\n",
       "      <td>0</td>\n",
       "      <td>0</td>\n",
       "      <td>0</td>\n",
       "      <td>2</td>\n",
       "      <td>0</td>\n",
       "      <td>1</td>\n",
       "      <td>0</td>\n",
       "      <td>1</td>\n",
       "      <td>0</td>\n",
       "      <td>0</td>\n",
       "      <td>0</td>\n",
       "      <td>...</td>\n",
       "      <td>9.0</td>\n",
       "      <td>9.0</td>\n",
       "      <td>108</td>\n",
       "      <td>23.0</td>\n",
       "      <td>1.0</td>\n",
       "      <td>11</td>\n",
       "      <td>7.0</td>\n",
       "      <td>2.0</td>\n",
       "      <td>3.0</td>\n",
       "      <td>3.0</td>\n",
       "      <td>60.0</td>\n",
       "      <td>3.0</td>\n",
       "      <td>2.0</td>\n",
       "      <td>143</td>\n",
       "      <td>1.0</td>\n",
       "      <td>NaN</td>\n",
       "      <td>22</td>\n",
       "      <td>60.0</td>\n",
       "      <td>NaN</td>\n",
       "      <td>60</td>\n",
       "      <td>3</td>\n",
       "      <td>23</td>\n",
       "      <td>10.0</td>\n",
       "      <td>2.0</td>\n",
       "      <td>NaN</td>\n",
       "      <td>5.0</td>\n",
       "      <td>NaN</td>\n",
       "      <td>1.9</td>\n",
       "      <td>7.0</td>\n",
       "      <td>20.0</td>\n",
       "      <td>NaN</td>\n",
       "      <td>NaN</td>\n",
       "      <td>3.3</td>\n",
       "      <td>1.0</td>\n",
       "      <td>5.0</td>\n",
       "      <td>60</td>\n",
       "      <td>4.0</td>\n",
       "      <td>NaN</td>\n",
       "      <td>52.0</td>\n",
       "      <td>3.0</td>\n",
       "    </tr>\n",
       "    <tr>\n",
       "      <th>4</th>\n",
       "      <td>IRIS_313-10010</td>\n",
       "      <td>0</td>\n",
       "      <td>0</td>\n",
       "      <td>0</td>\n",
       "      <td>0</td>\n",
       "      <td>0</td>\n",
       "      <td>0</td>\n",
       "      <td>0</td>\n",
       "      <td>0</td>\n",
       "      <td>0</td>\n",
       "      <td>0</td>\n",
       "      <td>0</td>\n",
       "      <td>0</td>\n",
       "      <td>0</td>\n",
       "      <td>0</td>\n",
       "      <td>0</td>\n",
       "      <td>0</td>\n",
       "      <td>0</td>\n",
       "      <td>0</td>\n",
       "      <td>0</td>\n",
       "      <td>0</td>\n",
       "      <td>0</td>\n",
       "      <td>0</td>\n",
       "      <td>0</td>\n",
       "      <td>0</td>\n",
       "      <td>0</td>\n",
       "      <td>0</td>\n",
       "      <td>0</td>\n",
       "      <td>0</td>\n",
       "      <td>0</td>\n",
       "      <td>0</td>\n",
       "      <td>0</td>\n",
       "      <td>0</td>\n",
       "      <td>0</td>\n",
       "      <td>0</td>\n",
       "      <td>0</td>\n",
       "      <td>0</td>\n",
       "      <td>0</td>\n",
       "      <td>0</td>\n",
       "      <td>0</td>\n",
       "      <td>...</td>\n",
       "      <td>7.0</td>\n",
       "      <td>9.0</td>\n",
       "      <td>136</td>\n",
       "      <td>27.0</td>\n",
       "      <td>1.0</td>\n",
       "      <td>11</td>\n",
       "      <td>5.0</td>\n",
       "      <td>5.0</td>\n",
       "      <td>3.0</td>\n",
       "      <td>3.0</td>\n",
       "      <td>60.0</td>\n",
       "      <td>5.0</td>\n",
       "      <td>2.0</td>\n",
       "      <td>106</td>\n",
       "      <td>1.0</td>\n",
       "      <td>NaN</td>\n",
       "      <td>24</td>\n",
       "      <td>41.0</td>\n",
       "      <td>NaN</td>\n",
       "      <td>61</td>\n",
       "      <td>3</td>\n",
       "      <td>16</td>\n",
       "      <td>10.0</td>\n",
       "      <td>2.0</td>\n",
       "      <td>NaN</td>\n",
       "      <td>5.0</td>\n",
       "      <td>NaN</td>\n",
       "      <td>1.4</td>\n",
       "      <td>7.0</td>\n",
       "      <td>20.0</td>\n",
       "      <td>NaN</td>\n",
       "      <td>NaN</td>\n",
       "      <td>3.1</td>\n",
       "      <td>1.0</td>\n",
       "      <td>3.0</td>\n",
       "      <td>60</td>\n",
       "      <td>2.0</td>\n",
       "      <td>NaN</td>\n",
       "      <td>52.0</td>\n",
       "      <td>3.0</td>\n",
       "    </tr>\n",
       "  </tbody>\n",
       "</table>\n",
       "<p>5 rows × 404442 columns</p>\n",
       "</div>"
      ],
      "text/plain": [
       "              IID  1178_T  ...  lemma.and.palea.color  spikelet.fertility\n",
       "0  IRIS_313-10000       0  ...                   20.0                 1.0\n",
       "1  IRIS_313-10001       0  ...                   20.0                 3.0\n",
       "2  IRIS_313-10002       0  ...                   42.0                 3.0\n",
       "3  IRIS_313-10007       1  ...                   52.0                 3.0\n",
       "4  IRIS_313-10010       0  ...                   52.0                 3.0\n",
       "\n",
       "[5 rows x 404442 columns]"
      ]
     },
     "execution_count": 7,
     "metadata": {
      "tags": []
     },
     "output_type": "execute_result"
    }
   ],
   "source": [
    "X_ct.head()"
   ]
  },
  {
   "cell_type": "markdown",
   "metadata": {},
   "source": [
    "Response variation."
   ]
  },
  {
   "cell_type": "code",
   "execution_count": 5,
   "metadata": {
    "colab": {},
    "colab_type": "code",
    "id": "Zro1PysqWarM"
   },
   "outputs": [],
   "source": [
    "grain_weight = pd.read_csv(\"gs://bi-rice-data/grain_weight_linear_sorted\", sep = \"\\t\")\n",
    "time_flowering = pd.read_csv(\"gs://bi-rice-data/time_flowering_linear_sorted\", sep = \"\\t\")\n",
    "y_cont = pd.read_csv(\"gs://bi-rice-data/Ycont.txt\", sep = \"\\t\")"
   ]
  },
  {
   "cell_type": "code",
   "execution_count": null,
   "metadata": {
    "colab": {
     "base_uri": "https://localhost:8080/",
     "height": 87
    },
    "colab_type": "code",
    "collapsed": true,
    "executionInfo": {
     "elapsed": 698,
     "status": "ok",
     "timestamp": 1579762658870,
     "user": {
      "displayName": "WST Dahlia",
      "photoUrl": "https://lh3.googleusercontent.com/a-/AAuE7mBkQ7g0fzB6AYnEU4Mxmxbqc5lm-ZMouB7RPaVd=s64",
      "userId": "17563820974603365318"
     },
     "user_tz": -420
    },
    "id": "PBl7DS5MJ8eb",
    "jupyter": {
     "outputs_hidden": true
    },
    "outputId": "54b0e900-cf48-49b1-a47b-86c8d381ad04"
   },
   "outputs": [
    {
     "data": {
      "text/plain": [
       "Index(['IID', 'Time.to.flowering..from.sowing.', 'grain.width', 'Grain.weight',\n",
       "       'culm.number', 'leaf.width', 'culm.length',\n",
       "       'Culm.diameter...1st.internode', 'panicle.length', 'ligule.length'],\n",
       "      dtype='object')"
      ]
     },
     "execution_count": 9,
     "metadata": {
      "tags": []
     },
     "output_type": "execute_result"
    }
   ],
   "source": [
    "y_cont.columns"
   ]
  },
  {
   "cell_type": "code",
   "execution_count": null,
   "metadata": {
    "colab": {},
    "colab_type": "code",
    "collapsed": true,
    "id": "U3rv5LXdKQfg",
    "jupyter": {
     "outputs_hidden": true
    }
   },
   "outputs": [],
   "source": [
    "# Variable of time to flowering \n",
    "y_tfl = y_cont.iloc[:, 1]\n",
    "# Variable of grain weight\n",
    "y_grw = y_cont['Grain.weight']\n",
    "# Varibales of time to flowering and grain weight\n",
    "y_tfl_grw = y_cont.iloc[:, [1, 3]]"
   ]
  },
  {
   "cell_type": "markdown",
   "metadata": {},
   "source": [
    "Variable of time flowering."
   ]
  },
  {
   "cell_type": "code",
   "execution_count": 6,
   "metadata": {
    "colab": {
     "base_uri": "https://localhost:8080/",
     "height": 197
    },
    "colab_type": "code",
    "executionInfo": {
     "elapsed": 88697,
     "status": "ok",
     "timestamp": 1579762751563,
     "user": {
      "displayName": "WST Dahlia",
      "photoUrl": "https://lh3.googleusercontent.com/a-/AAuE7mBkQ7g0fzB6AYnEU4Mxmxbqc5lm-ZMouB7RPaVd=s64",
      "userId": "17563820974603365318"
     },
     "user_tz": -420
    },
    "id": "FTtbz7l1F2nF",
    "outputId": "71d11792-5758-4bf7-b31f-102b4a98d708"
   },
   "outputs": [
    {
     "data": {
      "text/html": [
       "<div>\n",
       "<style scoped>\n",
       "    .dataframe tbody tr th:only-of-type {\n",
       "        vertical-align: middle;\n",
       "    }\n",
       "\n",
       "    .dataframe tbody tr th {\n",
       "        vertical-align: top;\n",
       "    }\n",
       "\n",
       "    .dataframe thead th {\n",
       "        text-align: right;\n",
       "    }\n",
       "</style>\n",
       "<table border=\"1\" class=\"dataframe\">\n",
       "  <thead>\n",
       "    <tr style=\"text-align: right;\">\n",
       "      <th></th>\n",
       "      <th>CHR</th>\n",
       "      <th>SNP</th>\n",
       "      <th>BP</th>\n",
       "      <th>A1</th>\n",
       "      <th>TEST</th>\n",
       "      <th>NMISS</th>\n",
       "      <th>BETA</th>\n",
       "      <th>SE</th>\n",
       "      <th>L95</th>\n",
       "      <th>U95</th>\n",
       "      <th>STAT</th>\n",
       "      <th>P_tfl</th>\n",
       "      <th>variable</th>\n",
       "    </tr>\n",
       "  </thead>\n",
       "  <tbody>\n",
       "    <tr>\n",
       "      <th>45894</th>\n",
       "      <td>2</td>\n",
       "      <td>46411817</td>\n",
       "      <td>3140894</td>\n",
       "      <td>G</td>\n",
       "      <td>ADD</td>\n",
       "      <td>2266</td>\n",
       "      <td>2.997</td>\n",
       "      <td>0.5234</td>\n",
       "      <td>1.972</td>\n",
       "      <td>4.023</td>\n",
       "      <td>5.727</td>\n",
       "      <td>1.159000e-08</td>\n",
       "      <td>46411817_G</td>\n",
       "    </tr>\n",
       "    <tr>\n",
       "      <th>390934</th>\n",
       "      <td>12</td>\n",
       "      <td>363291768</td>\n",
       "      <td>17578105</td>\n",
       "      <td>A</td>\n",
       "      <td>ADD</td>\n",
       "      <td>2266</td>\n",
       "      <td>-3.426</td>\n",
       "      <td>0.6075</td>\n",
       "      <td>-4.617</td>\n",
       "      <td>-2.235</td>\n",
       "      <td>-5.639</td>\n",
       "      <td>1.918000e-08</td>\n",
       "      <td>363291768_A</td>\n",
       "    </tr>\n",
       "    <tr>\n",
       "      <th>183790</th>\n",
       "      <td>6</td>\n",
       "      <td>181775087</td>\n",
       "      <td>691967</td>\n",
       "      <td>A</td>\n",
       "      <td>ADD</td>\n",
       "      <td>2266</td>\n",
       "      <td>3.205</td>\n",
       "      <td>0.5746</td>\n",
       "      <td>2.079</td>\n",
       "      <td>4.331</td>\n",
       "      <td>5.578</td>\n",
       "      <td>2.725000e-08</td>\n",
       "      <td>181775087_A</td>\n",
       "    </tr>\n",
       "    <tr>\n",
       "      <th>23970</th>\n",
       "      <td>1</td>\n",
       "      <td>23655049</td>\n",
       "      <td>23655049</td>\n",
       "      <td>G</td>\n",
       "      <td>ADD</td>\n",
       "      <td>2266</td>\n",
       "      <td>2.884</td>\n",
       "      <td>0.5198</td>\n",
       "      <td>1.865</td>\n",
       "      <td>3.903</td>\n",
       "      <td>5.548</td>\n",
       "      <td>3.233000e-08</td>\n",
       "      <td>23655049_G</td>\n",
       "    </tr>\n",
       "    <tr>\n",
       "      <th>361954</th>\n",
       "      <td>11</td>\n",
       "      <td>341144421</td>\n",
       "      <td>24451864</td>\n",
       "      <td>G</td>\n",
       "      <td>ADD</td>\n",
       "      <td>2266</td>\n",
       "      <td>3.274</td>\n",
       "      <td>0.5952</td>\n",
       "      <td>2.107</td>\n",
       "      <td>4.440</td>\n",
       "      <td>5.500</td>\n",
       "      <td>4.229000e-08</td>\n",
       "      <td>341144421_G</td>\n",
       "    </tr>\n",
       "  </tbody>\n",
       "</table>\n",
       "</div>"
      ],
      "text/plain": [
       "        CHR        SNP        BP A1 TEST  NMISS   BETA      SE    L95    U95  \\\n",
       "45894     2   46411817   3140894  G  ADD   2266  2.997  0.5234  1.972  4.023   \n",
       "390934   12  363291768  17578105  A  ADD   2266 -3.426  0.6075 -4.617 -2.235   \n",
       "183790    6  181775087    691967  A  ADD   2266  3.205  0.5746  2.079  4.331   \n",
       "23970     1   23655049  23655049  G  ADD   2266  2.884  0.5198  1.865  3.903   \n",
       "361954   11  341144421  24451864  G  ADD   2266  3.274  0.5952  2.107  4.440   \n",
       "\n",
       "         STAT         P_tfl     variable  \n",
       "45894   5.727  1.159000e-08   46411817_G  \n",
       "390934 -5.639  1.918000e-08  363291768_A  \n",
       "183790  5.578  2.725000e-08  181775087_A  \n",
       "23970   5.548  3.233000e-08   23655049_G  \n",
       "361954  5.500  4.229000e-08  341144421_G  "
      ]
     },
     "execution_count": 6,
     "metadata": {},
     "output_type": "execute_result"
    }
   ],
   "source": [
    "time_flowering = time_flowering.rename(columns = {'P':'P_tfl'})\n",
    "time_flowering['variable'] = time_flowering[[\"SNP\", \"A1\"]].apply(lambda x: '_'.join(x.map(str)), axis=1)\n",
    "time_flowering.head()"
   ]
  },
  {
   "cell_type": "markdown",
   "metadata": {},
   "source": [
    "Variable of grain weight"
   ]
  },
  {
   "cell_type": "code",
   "execution_count": 7,
   "metadata": {
    "colab": {
     "base_uri": "https://localhost:8080/",
     "height": 197
    },
    "colab_type": "code",
    "executionInfo": {
     "elapsed": 91379,
     "status": "ok",
     "timestamp": 1579762842959,
     "user": {
      "displayName": "WST Dahlia",
      "photoUrl": "https://lh3.googleusercontent.com/a-/AAuE7mBkQ7g0fzB6AYnEU4Mxmxbqc5lm-ZMouB7RPaVd=s64",
      "userId": "17563820974603365318"
     },
     "user_tz": -420
    },
    "id": "rFhGqtdDALAw",
    "outputId": "d9b4e0cb-cdc4-4e1e-95fb-a78ff5ceff56"
   },
   "outputs": [
    {
     "data": {
      "text/html": [
       "<div>\n",
       "<style scoped>\n",
       "    .dataframe tbody tr th:only-of-type {\n",
       "        vertical-align: middle;\n",
       "    }\n",
       "\n",
       "    .dataframe tbody tr th {\n",
       "        vertical-align: top;\n",
       "    }\n",
       "\n",
       "    .dataframe thead th {\n",
       "        text-align: right;\n",
       "    }\n",
       "</style>\n",
       "<table border=\"1\" class=\"dataframe\">\n",
       "  <thead>\n",
       "    <tr style=\"text-align: right;\">\n",
       "      <th></th>\n",
       "      <th>CHR</th>\n",
       "      <th>SNP</th>\n",
       "      <th>BP</th>\n",
       "      <th>A1</th>\n",
       "      <th>TEST</th>\n",
       "      <th>NMISS</th>\n",
       "      <th>BETA</th>\n",
       "      <th>SE</th>\n",
       "      <th>L95</th>\n",
       "      <th>U95</th>\n",
       "      <th>STAT</th>\n",
       "      <th>P_grw</th>\n",
       "      <th>variable</th>\n",
       "    </tr>\n",
       "  </thead>\n",
       "  <tbody>\n",
       "    <tr>\n",
       "      <th>377709</th>\n",
       "      <td>12</td>\n",
       "      <td>352270867</td>\n",
       "      <td>6557204</td>\n",
       "      <td>T</td>\n",
       "      <td>ADD</td>\n",
       "      <td>2260</td>\n",
       "      <td>0.24100</td>\n",
       "      <td>0.05371</td>\n",
       "      <td>0.13570</td>\n",
       "      <td>0.34630</td>\n",
       "      <td>4.487</td>\n",
       "      <td>0.000008</td>\n",
       "      <td>352270867_T</td>\n",
       "    </tr>\n",
       "    <tr>\n",
       "      <th>391742</th>\n",
       "      <td>12</td>\n",
       "      <td>363495388</td>\n",
       "      <td>17781725</td>\n",
       "      <td>C</td>\n",
       "      <td>ADD</td>\n",
       "      <td>2260</td>\n",
       "      <td>-0.14460</td>\n",
       "      <td>0.03353</td>\n",
       "      <td>-0.21030</td>\n",
       "      <td>-0.07889</td>\n",
       "      <td>-4.313</td>\n",
       "      <td>0.000017</td>\n",
       "      <td>363495388_C</td>\n",
       "    </tr>\n",
       "    <tr>\n",
       "      <th>158454</th>\n",
       "      <td>5</td>\n",
       "      <td>153320754</td>\n",
       "      <td>2196068</td>\n",
       "      <td>G</td>\n",
       "      <td>ADD</td>\n",
       "      <td>2260</td>\n",
       "      <td>0.08686</td>\n",
       "      <td>0.02026</td>\n",
       "      <td>0.04715</td>\n",
       "      <td>0.12660</td>\n",
       "      <td>4.287</td>\n",
       "      <td>0.000019</td>\n",
       "      <td>153320754_G</td>\n",
       "    </tr>\n",
       "    <tr>\n",
       "      <th>158331</th>\n",
       "      <td>5</td>\n",
       "      <td>153259075</td>\n",
       "      <td>2134389</td>\n",
       "      <td>A</td>\n",
       "      <td>ADD</td>\n",
       "      <td>2260</td>\n",
       "      <td>0.05608</td>\n",
       "      <td>0.01316</td>\n",
       "      <td>0.03029</td>\n",
       "      <td>0.08187</td>\n",
       "      <td>4.263</td>\n",
       "      <td>0.000021</td>\n",
       "      <td>153259075_A</td>\n",
       "    </tr>\n",
       "    <tr>\n",
       "      <th>246489</th>\n",
       "      <td>8</td>\n",
       "      <td>245730796</td>\n",
       "      <td>3701268</td>\n",
       "      <td>A</td>\n",
       "      <td>ADD</td>\n",
       "      <td>2260</td>\n",
       "      <td>0.20460</td>\n",
       "      <td>0.04801</td>\n",
       "      <td>0.11040</td>\n",
       "      <td>0.29870</td>\n",
       "      <td>4.260</td>\n",
       "      <td>0.000021</td>\n",
       "      <td>245730796_A</td>\n",
       "    </tr>\n",
       "  </tbody>\n",
       "</table>\n",
       "</div>"
      ],
      "text/plain": [
       "        CHR        SNP        BP A1 TEST  NMISS     BETA       SE      L95  \\\n",
       "377709   12  352270867   6557204  T  ADD   2260  0.24100  0.05371  0.13570   \n",
       "391742   12  363495388  17781725  C  ADD   2260 -0.14460  0.03353 -0.21030   \n",
       "158454    5  153320754   2196068  G  ADD   2260  0.08686  0.02026  0.04715   \n",
       "158331    5  153259075   2134389  A  ADD   2260  0.05608  0.01316  0.03029   \n",
       "246489    8  245730796   3701268  A  ADD   2260  0.20460  0.04801  0.11040   \n",
       "\n",
       "            U95   STAT     P_grw     variable  \n",
       "377709  0.34630  4.487  0.000008  352270867_T  \n",
       "391742 -0.07889 -4.313  0.000017  363495388_C  \n",
       "158454  0.12660  4.287  0.000019  153320754_G  \n",
       "158331  0.08187  4.263  0.000021  153259075_A  \n",
       "246489  0.29870  4.260  0.000021  245730796_A  "
      ]
     },
     "execution_count": 7,
     "metadata": {},
     "output_type": "execute_result"
    }
   ],
   "source": [
    "grain_weight = grain_weight.rename(columns = {'P':'P_grw'})\n",
    "grain_weight['variable'] = grain_weight[[\"SNP\", \"A1\"]].apply(lambda x: '_'.join(x.map(str)), axis=1)\n",
    "grain_weight.head()"
   ]
  },
  {
   "cell_type": "code",
   "execution_count": 8,
   "metadata": {
    "colab": {
     "base_uri": "https://localhost:8080/",
     "height": 158
    },
    "colab_type": "code",
    "executionInfo": {
     "elapsed": 1005,
     "status": "ok",
     "timestamp": 1579764796529,
     "user": {
      "displayName": "WST Dahlia",
      "photoUrl": "https://lh3.googleusercontent.com/a-/AAuE7mBkQ7g0fzB6AYnEU4Mxmxbqc5lm-ZMouB7RPaVd=s64",
      "userId": "17563820974603365318"
     },
     "user_tz": -420
    },
    "id": "ncw6XghbhBr_",
    "outputId": "8122542d-5633-47fa-cb17-0036dc4b389d"
   },
   "outputs": [
    {
     "name": "stderr",
     "output_type": "stream",
     "text": [
      "/usr/local/lib/python3.5/dist-packages/ipykernel_launcher.py:1: FutureWarning: \n",
      ".ix is deprecated. Please use\n",
      ".loc for label based indexing or\n",
      ".iloc for positional indexing\n",
      "\n",
      "See the documentation here:\n",
      "http://pandas.pydata.org/pandas-docs/stable/user_guide/indexing.html#ix-indexer-is-deprecated\n",
      "  \"\"\"Entry point for launching an IPython kernel.\n"
     ]
    }
   ],
   "source": [
    "tfl_grw = time_flowering.ix[list(grain_weight.index)]"
   ]
  },
  {
   "cell_type": "code",
   "execution_count": 9,
   "metadata": {
    "colab": {},
    "colab_type": "code",
    "id": "XguFEiELU61o"
   },
   "outputs": [],
   "source": [
    "tfl_grw['P_grw'] = list(grain_weight['P_grw'])"
   ]
  },
  {
   "cell_type": "markdown",
   "metadata": {},
   "source": [
    "Data frame with p value of time to flowering and of grain weight. "
   ]
  },
  {
   "cell_type": "code",
   "execution_count": null,
   "metadata": {
    "colab": {
     "base_uri": "https://localhost:8080/",
     "height": 197
    },
    "colab_type": "code",
    "collapsed": true,
    "executionInfo": {
     "elapsed": 712,
     "status": "ok",
     "timestamp": 1579764993813,
     "user": {
      "displayName": "WST Dahlia",
      "photoUrl": "https://lh3.googleusercontent.com/a-/AAuE7mBkQ7g0fzB6AYnEU4Mxmxbqc5lm-ZMouB7RPaVd=s64",
      "userId": "17563820974603365318"
     },
     "user_tz": -420
    },
    "id": "mWOgKpQ3VLLu",
    "jupyter": {
     "outputs_hidden": true
    },
    "outputId": "2f823d22-8ca7-47ff-fbfd-c683763307f8"
   },
   "outputs": [
    {
     "data": {
      "text/html": [
       "<div>\n",
       "<style scoped>\n",
       "    .dataframe tbody tr th:only-of-type {\n",
       "        vertical-align: middle;\n",
       "    }\n",
       "\n",
       "    .dataframe tbody tr th {\n",
       "        vertical-align: top;\n",
       "    }\n",
       "\n",
       "    .dataframe thead th {\n",
       "        text-align: right;\n",
       "    }\n",
       "</style>\n",
       "<table border=\"1\" class=\"dataframe\">\n",
       "  <thead>\n",
       "    <tr style=\"text-align: right;\">\n",
       "      <th></th>\n",
       "      <th>CHR</th>\n",
       "      <th>SNP</th>\n",
       "      <th>BP</th>\n",
       "      <th>A1</th>\n",
       "      <th>TEST</th>\n",
       "      <th>NMISS</th>\n",
       "      <th>BETA</th>\n",
       "      <th>SE</th>\n",
       "      <th>L95</th>\n",
       "      <th>U95</th>\n",
       "      <th>STAT</th>\n",
       "      <th>P_tfl</th>\n",
       "      <th>variable</th>\n",
       "      <th>P_grw</th>\n",
       "    </tr>\n",
       "  </thead>\n",
       "  <tbody>\n",
       "    <tr>\n",
       "      <th>377709</th>\n",
       "      <td>12</td>\n",
       "      <td>352270867</td>\n",
       "      <td>6557204</td>\n",
       "      <td>T</td>\n",
       "      <td>ADD</td>\n",
       "      <td>2266</td>\n",
       "      <td>-1.5500</td>\n",
       "      <td>2.5560</td>\n",
       "      <td>-6.5600</td>\n",
       "      <td>3.459</td>\n",
       "      <td>-0.6066</td>\n",
       "      <td>0.5442</td>\n",
       "      <td>352270867_T</td>\n",
       "      <td>0.000008</td>\n",
       "    </tr>\n",
       "    <tr>\n",
       "      <th>391742</th>\n",
       "      <td>12</td>\n",
       "      <td>363495388</td>\n",
       "      <td>17781725</td>\n",
       "      <td>C</td>\n",
       "      <td>ADD</td>\n",
       "      <td>2266</td>\n",
       "      <td>-0.2167</td>\n",
       "      <td>1.5950</td>\n",
       "      <td>-3.3430</td>\n",
       "      <td>2.909</td>\n",
       "      <td>-0.1359</td>\n",
       "      <td>0.8919</td>\n",
       "      <td>363495388_C</td>\n",
       "      <td>0.000017</td>\n",
       "    </tr>\n",
       "    <tr>\n",
       "      <th>158454</th>\n",
       "      <td>5</td>\n",
       "      <td>153320754</td>\n",
       "      <td>2196068</td>\n",
       "      <td>G</td>\n",
       "      <td>ADD</td>\n",
       "      <td>2266</td>\n",
       "      <td>1.3400</td>\n",
       "      <td>0.9607</td>\n",
       "      <td>-0.5427</td>\n",
       "      <td>3.223</td>\n",
       "      <td>1.3950</td>\n",
       "      <td>0.1631</td>\n",
       "      <td>153320754_G</td>\n",
       "      <td>0.000019</td>\n",
       "    </tr>\n",
       "    <tr>\n",
       "      <th>158331</th>\n",
       "      <td>5</td>\n",
       "      <td>153259075</td>\n",
       "      <td>2134389</td>\n",
       "      <td>A</td>\n",
       "      <td>ADD</td>\n",
       "      <td>2266</td>\n",
       "      <td>0.5872</td>\n",
       "      <td>0.6250</td>\n",
       "      <td>-0.6378</td>\n",
       "      <td>1.812</td>\n",
       "      <td>0.9395</td>\n",
       "      <td>0.3476</td>\n",
       "      <td>153259075_A</td>\n",
       "      <td>0.000021</td>\n",
       "    </tr>\n",
       "    <tr>\n",
       "      <th>246489</th>\n",
       "      <td>8</td>\n",
       "      <td>245730796</td>\n",
       "      <td>3701268</td>\n",
       "      <td>A</td>\n",
       "      <td>ADD</td>\n",
       "      <td>2266</td>\n",
       "      <td>-1.3120</td>\n",
       "      <td>2.2840</td>\n",
       "      <td>-5.7890</td>\n",
       "      <td>3.164</td>\n",
       "      <td>-0.5747</td>\n",
       "      <td>0.5656</td>\n",
       "      <td>245730796_A</td>\n",
       "      <td>0.000021</td>\n",
       "    </tr>\n",
       "  </tbody>\n",
       "</table>\n",
       "</div>"
      ],
      "text/plain": [
       "        CHR        SNP        BP A1  ...    STAT   P_tfl     variable     P_grw\n",
       "377709   12  352270867   6557204  T  ... -0.6066  0.5442  352270867_T  0.000008\n",
       "391742   12  363495388  17781725  C  ... -0.1359  0.8919  363495388_C  0.000017\n",
       "158454    5  153320754   2196068  G  ...  1.3950  0.1631  153320754_G  0.000019\n",
       "158331    5  153259075   2134389  A  ...  0.9395  0.3476  153259075_A  0.000021\n",
       "246489    8  245730796   3701268  A  ... -0.5747  0.5656  245730796_A  0.000021\n",
       "\n",
       "[5 rows x 14 columns]"
      ]
     },
     "execution_count": 43,
     "metadata": {
      "tags": []
     },
     "output_type": "execute_result"
    }
   ],
   "source": [
    "tfl_grw.head()"
   ]
  },
  {
   "cell_type": "code",
   "execution_count": 10,
   "metadata": {
    "colab": {},
    "colab_type": "code",
    "id": "YHC9sBKraP4E"
   },
   "outputs": [],
   "source": [
    "# Choose variables that have p value less than 5e-8, 5e-7, ..., 5e-2 \n",
    "var_tfl_grw = []\n",
    "for i in range(2, 9):\n",
    "  var_tfl_grw.append(tfl_grw['variable'][(tfl_grw['P_tfl']<= 5*10**(-i)) & (tfl_grw['P_grw']<= 5*10**(-i))])"
   ]
  },
  {
   "cell_type": "code",
   "execution_count": 11,
   "metadata": {
    "colab": {},
    "colab_type": "code",
    "id": "fZrPPtRUEZAQ"
   },
   "outputs": [],
   "source": [
    "var_grain_weight = []\n",
    "var_time_flowering = []\n",
    "\n",
    "for i in range(2, 9):\n",
    "  var_grain_weight.append(grain_weight['variable'][grain_weight['P_grw']<= 5*10**(-i)])\n",
    "  var_time_flowering.append(time_flowering['variable'][time_flowering['P_tfl']<= 5*10**(-i)])"
   ]
  },
  {
   "cell_type": "code",
   "execution_count": 20,
   "metadata": {
    "colab": {},
    "colab_type": "code",
    "id": "pnhufDZWWNA9"
   },
   "outputs": [],
   "source": [
    "# Save file to storage\n",
    "X_tfl_grw_3 = X_ct[list(var_tfl_grw[1])]\n",
    "X_tfl_grw_3.to_csv('gs://bi-rice-data/X_tfl_grw_3.csv')"
   ]
  },
  {
   "cell_type": "code",
   "execution_count": null,
   "metadata": {
    "colab": {},
    "colab_type": "code",
    "collapsed": true,
    "id": "DB1fypgknL2Y",
    "jupyter": {
     "outputs_hidden": true
    }
   },
   "outputs": [],
   "source": [
    "#from google.colab import files\n",
    "#np.savetxt('X_grw_2.csv', X_grw, delimiter=\",\") \n",
    "#files.download('X_grw_2.csv')"
   ]
  },
  {
   "cell_type": "markdown",
   "metadata": {
    "colab_type": "text",
    "id": "TZPfgLQyUc1E"
   },
   "source": [
    "## 2 Method"
   ]
  },
  {
   "cell_type": "markdown",
   "metadata": {
    "colab_type": "text",
    "id": "E9pVYMpiUc1F"
   },
   "source": [
    "### 2.1 Principal Component Analysis and Partial Least Squares "
   ]
  },
  {
   "cell_type": "markdown",
   "metadata": {},
   "source": [
    "<b>Principal Component Analysis (PCA)</b> is the data dimensionality reduction method aims to finds a hyperplane that the projection of the entries of X on it has the the largest variance. <br>\n",
    "<b>Partial Least Squares (PLS) Regression</b> is the data dimensionality reduction method too, but aims to find a hyperplane that projections of entries in the cross product of the input matrix X and the output matrix Y on the hyperplane gain the largest variance.<br>\n",
    "PLS considers the correlation between X and Y, thus preserving information in the regression model between Y and X is better with the high dimentional data. PLS regression is particularly suitable when the input data has a very large number of variation compared to the number of observed samples."
   ]
  },
  {
   "cell_type": "code",
   "execution_count": null,
   "metadata": {},
   "outputs": [],
   "source": [
    "Data frame of continuous variation."
   ]
  },
  {
   "cell_type": "code",
   "execution_count": null,
   "metadata": {},
   "outputs": [],
   "source": [
    "# Using chunk size to read rice data\n",
    "chunksize = 100\n",
    "X_ct = pd.DataFrame()\n",
    "for chunk in pd.read_csv(\"gs://bi-rice-data/Xcont.csv\",low_memory=False, chunksize=chunksize, memory_map=True):\n",
    "    X_ct = pd.concat([X_ct, chunk])"
   ]
  },
  {
   "cell_type": "code",
   "execution_count": 28,
   "metadata": {
    "colab": {
     "base_uri": "https://localhost:8080/",
     "height": 221
    },
    "colab_type": "code",
    "executionInfo": {
     "elapsed": 721,
     "status": "error",
     "timestamp": 1580015698225,
     "user": {
      "displayName": "WST Dahlia",
      "photoUrl": "https://lh3.googleusercontent.com/a-/AAuE7mBkQ7g0fzB6AYnEU4Mxmxbqc5lm-ZMouB7RPaVd=s64",
      "userId": "17563820974603365318"
     },
     "user_tz": -420
    },
    "id": "fb2ftGLOIJkm",
    "outputId": "2768e36a-c7d5-408d-9a5c-1f011e6cdf70"
   },
   "outputs": [
    {
     "data": {
      "text/html": [
       "<div>\n",
       "<style scoped>\n",
       "    .dataframe tbody tr th:only-of-type {\n",
       "        vertical-align: middle;\n",
       "    }\n",
       "\n",
       "    .dataframe tbody tr th {\n",
       "        vertical-align: top;\n",
       "    }\n",
       "\n",
       "    .dataframe thead th {\n",
       "        text-align: right;\n",
       "    }\n",
       "</style>\n",
       "<table border=\"1\" class=\"dataframe\">\n",
       "  <thead>\n",
       "    <tr style=\"text-align: right;\">\n",
       "      <th></th>\n",
       "      <th>1178_T</th>\n",
       "      <th>1203_C</th>\n",
       "      <th>1248_A</th>\n",
       "      <th>1282_A</th>\n",
       "      <th>1299_C</th>\n",
       "      <th>1306_A</th>\n",
       "      <th>1792_A</th>\n",
       "      <th>5752_T</th>\n",
       "      <th>6634_A</th>\n",
       "      <th>11334_C</th>\n",
       "      <th>...</th>\n",
       "      <th>373224710_T</th>\n",
       "      <th>373225563_G</th>\n",
       "      <th>373225815_T</th>\n",
       "      <th>373225923_G</th>\n",
       "      <th>373239794_A</th>\n",
       "      <th>373240105_G</th>\n",
       "      <th>373240943_T</th>\n",
       "      <th>373241264_C</th>\n",
       "      <th>373243874_T</th>\n",
       "      <th>373244037_C</th>\n",
       "    </tr>\n",
       "    <tr>\n",
       "      <th>IID</th>\n",
       "      <th></th>\n",
       "      <th></th>\n",
       "      <th></th>\n",
       "      <th></th>\n",
       "      <th></th>\n",
       "      <th></th>\n",
       "      <th></th>\n",
       "      <th></th>\n",
       "      <th></th>\n",
       "      <th></th>\n",
       "      <th></th>\n",
       "      <th></th>\n",
       "      <th></th>\n",
       "      <th></th>\n",
       "      <th></th>\n",
       "      <th></th>\n",
       "      <th></th>\n",
       "      <th></th>\n",
       "      <th></th>\n",
       "      <th></th>\n",
       "      <th></th>\n",
       "    </tr>\n",
       "  </thead>\n",
       "  <tbody>\n",
       "    <tr>\n",
       "      <th>IRIS_313-10000</th>\n",
       "      <td>0</td>\n",
       "      <td>2</td>\n",
       "      <td>0</td>\n",
       "      <td>0</td>\n",
       "      <td>0</td>\n",
       "      <td>0</td>\n",
       "      <td>0</td>\n",
       "      <td>2</td>\n",
       "      <td>0</td>\n",
       "      <td>2</td>\n",
       "      <td>...</td>\n",
       "      <td>0</td>\n",
       "      <td>0</td>\n",
       "      <td>0</td>\n",
       "      <td>0</td>\n",
       "      <td>0</td>\n",
       "      <td>0</td>\n",
       "      <td>0</td>\n",
       "      <td>0</td>\n",
       "      <td>0</td>\n",
       "      <td>0</td>\n",
       "    </tr>\n",
       "    <tr>\n",
       "      <th>IRIS_313-10001</th>\n",
       "      <td>0</td>\n",
       "      <td>0</td>\n",
       "      <td>0</td>\n",
       "      <td>0</td>\n",
       "      <td>0</td>\n",
       "      <td>0</td>\n",
       "      <td>0</td>\n",
       "      <td>0</td>\n",
       "      <td>0</td>\n",
       "      <td>0</td>\n",
       "      <td>...</td>\n",
       "      <td>0</td>\n",
       "      <td>0</td>\n",
       "      <td>0</td>\n",
       "      <td>0</td>\n",
       "      <td>0</td>\n",
       "      <td>0</td>\n",
       "      <td>0</td>\n",
       "      <td>0</td>\n",
       "      <td>0</td>\n",
       "      <td>0</td>\n",
       "    </tr>\n",
       "    <tr>\n",
       "      <th>IRIS_313-10002</th>\n",
       "      <td>0</td>\n",
       "      <td>0</td>\n",
       "      <td>0</td>\n",
       "      <td>0</td>\n",
       "      <td>0</td>\n",
       "      <td>0</td>\n",
       "      <td>0</td>\n",
       "      <td>0</td>\n",
       "      <td>0</td>\n",
       "      <td>0</td>\n",
       "      <td>...</td>\n",
       "      <td>0</td>\n",
       "      <td>0</td>\n",
       "      <td>0</td>\n",
       "      <td>0</td>\n",
       "      <td>0</td>\n",
       "      <td>0</td>\n",
       "      <td>0</td>\n",
       "      <td>0</td>\n",
       "      <td>0</td>\n",
       "      <td>0</td>\n",
       "    </tr>\n",
       "    <tr>\n",
       "      <th>IRIS_313-10007</th>\n",
       "      <td>1</td>\n",
       "      <td>2</td>\n",
       "      <td>0</td>\n",
       "      <td>0</td>\n",
       "      <td>1</td>\n",
       "      <td>0</td>\n",
       "      <td>0</td>\n",
       "      <td>0</td>\n",
       "      <td>0</td>\n",
       "      <td>1</td>\n",
       "      <td>...</td>\n",
       "      <td>0</td>\n",
       "      <td>0</td>\n",
       "      <td>0</td>\n",
       "      <td>0</td>\n",
       "      <td>0</td>\n",
       "      <td>0</td>\n",
       "      <td>0</td>\n",
       "      <td>0</td>\n",
       "      <td>0</td>\n",
       "      <td>2</td>\n",
       "    </tr>\n",
       "    <tr>\n",
       "      <th>IRIS_313-10010</th>\n",
       "      <td>0</td>\n",
       "      <td>0</td>\n",
       "      <td>0</td>\n",
       "      <td>0</td>\n",
       "      <td>0</td>\n",
       "      <td>0</td>\n",
       "      <td>0</td>\n",
       "      <td>0</td>\n",
       "      <td>0</td>\n",
       "      <td>0</td>\n",
       "      <td>...</td>\n",
       "      <td>0</td>\n",
       "      <td>0</td>\n",
       "      <td>0</td>\n",
       "      <td>0</td>\n",
       "      <td>0</td>\n",
       "      <td>0</td>\n",
       "      <td>0</td>\n",
       "      <td>0</td>\n",
       "      <td>0</td>\n",
       "      <td>0</td>\n",
       "    </tr>\n",
       "  </tbody>\n",
       "</table>\n",
       "<p>5 rows × 404388 columns</p>\n",
       "</div>"
      ],
      "text/plain": [
       "                1178_T  1203_C  1248_A  1282_A  1299_C  1306_A  1792_A  \\\n",
       "IID                                                                      \n",
       "IRIS_313-10000       0       2       0       0       0       0       0   \n",
       "IRIS_313-10001       0       0       0       0       0       0       0   \n",
       "IRIS_313-10002       0       0       0       0       0       0       0   \n",
       "IRIS_313-10007       1       2       0       0       1       0       0   \n",
       "IRIS_313-10010       0       0       0       0       0       0       0   \n",
       "\n",
       "                5752_T  6634_A  11334_C  ...  373224710_T  373225563_G  \\\n",
       "IID                                      ...                             \n",
       "IRIS_313-10000       2       0        2  ...            0            0   \n",
       "IRIS_313-10001       0       0        0  ...            0            0   \n",
       "IRIS_313-10002       0       0        0  ...            0            0   \n",
       "IRIS_313-10007       0       0        1  ...            0            0   \n",
       "IRIS_313-10010       0       0        0  ...            0            0   \n",
       "\n",
       "                373225815_T  373225923_G  373239794_A  373240105_G  \\\n",
       "IID                                                                  \n",
       "IRIS_313-10000            0            0            0            0   \n",
       "IRIS_313-10001            0            0            0            0   \n",
       "IRIS_313-10002            0            0            0            0   \n",
       "IRIS_313-10007            0            0            0            0   \n",
       "IRIS_313-10010            0            0            0            0   \n",
       "\n",
       "                373240943_T  373241264_C  373243874_T  373244037_C  \n",
       "IID                                                                 \n",
       "IRIS_313-10000            0            0            0            0  \n",
       "IRIS_313-10001            0            0            0            0  \n",
       "IRIS_313-10002            0            0            0            0  \n",
       "IRIS_313-10007            0            0            0            2  \n",
       "IRIS_313-10010            0            0            0            0  \n",
       "\n",
       "[5 rows x 404388 columns]"
      ]
     },
     "execution_count": 28,
     "metadata": {},
     "output_type": "execute_result"
    }
   ],
   "source": [
    "X_ct.columns[404389:].to_list()\n",
    "# Drop variables that are not necessary\n",
    "X_cont = X_ct.drop(X_ct.columns[404389:].to_list(), axis = 1)\n",
    "X_cont.set_index(\"IID\", inplace = True)\n",
    "X_cont.head()"
   ]
  },
  {
   "cell_type": "code",
   "execution_count": 29,
   "metadata": {
    "colab": {},
    "colab_type": "code",
    "id": "vqKIBrauJh6O"
   },
   "outputs": [],
   "source": [
    "# Load data after pre-processinng\n",
    "y_tfl = pd.read_csv(\"gs://bi-rice-data/y_tfl.csv\", header=None)\n",
    "y_grw = pd.read_csv(\"gs://bi-rice-data/y_grw.csv\", header=None)\n",
    "y_tfl_grw = pd.read_csv(\"gs://bi-rice-data/y_tfl_grw.csv\", header=None)\n",
    "\n",
    "X_grw_2 = pd.read_csv(\"gs://bi-rice-data/X_grw_2.csv\", header='infer')\n",
    "X_grw_3 = pd.read_csv(\"gs://bi-rice-data/X_grw_3.csv\", header='infer')\n",
    "X_grw_4 = pd.read_csv(\"gs://bi-rice-data/X_grw_4.csv\", header='infer')\n",
    "X_grw_5 = pd.read_csv(\"gs://bi-rice-data/X_grw_5.csv\", header='infer')\n",
    "\n",
    "X_tfl_2 = pd.read_csv(\"gs://bi-rice-data/X_tfl_2.csv\", header='infer')\n",
    "X_tfl_3 = pd.read_csv(\"gs://bi-rice-data/X_tfl_3.csv\", header='infer')\n",
    "X_tfl_4 = pd.read_csv(\"gs://bi-rice-data/X_tfl_4.csv\", header='infer')\n",
    "X_tfl_5 = pd.read_csv(\"gs://bi-rice-data/X_tfl_5.csv\", header='infer')\n",
    "X_tfl_6 = pd.read_csv(\"gs://bi-rice-data/X_tfl_6.csv\", header='infer')\n",
    "X_tfl_7 = pd.read_csv(\"gs://bi-rice-data/X_tfl_7.csv\", header='infer')\n",
    "X_tfl_8 = pd.read_csv(\"gs://bi-rice-data/X_tfl_8.csv\", header='infer')\n",
    "\n",
    "X_tfl_grw_2 = pd.read_csv(\"gs://bi-rice-data/X_tfl_grw_2.csv\", header='infer')\n",
    "X_tfl_grw_3 = pd.read_csv(\"gs://bi-rice-data/X_tfl_grw_3.csv\", header='infer')"
   ]
  },
  {
   "cell_type": "code",
   "execution_count": 30,
   "metadata": {},
   "outputs": [],
   "source": [
    "X_train_grw = X_grw_2.drop('Unnamed: 0', axis = 1)\n",
    "X_train_tfl = X_tfl_2.drop('Unnamed: 0', axis = 1) \n",
    "X_train_tfl_grw = X_tfl_grw_2.drop('Unnamed: 0', axis = 1) "
   ]
  },
  {
   "cell_type": "code",
   "execution_count": 31,
   "metadata": {
    "colab": {},
    "colab_type": "code",
    "id": "VbRZ6WADIyGj"
   },
   "outputs": [
    {
     "name": "stderr",
     "output_type": "stream",
     "text": [
      "/usr/local/lib/python3.5/dist-packages/ipykernel_launcher.py:2: FutureWarning: Method .as_matrix will be removed in a future version. Use .values instead.\n",
      "  \n",
      "/usr/local/lib/python3.5/dist-packages/ipykernel_launcher.py:3: FutureWarning: Method .as_matrix will be removed in a future version. Use .values instead.\n",
      "  This is separate from the ipykernel package so we can avoid doing imports until\n",
      "/usr/local/lib/python3.5/dist-packages/ipykernel_launcher.py:4: FutureWarning: Method .as_matrix will be removed in a future version. Use .values instead.\n",
      "  after removing the cwd from sys.path.\n"
     ]
    }
   ],
   "source": [
    "# Transform response variables to matrix type.\n",
    "y_tfl = y_tfl.as_matrix().ravel()\n",
    "y_grw = y_grw.as_matrix().ravel()\n",
    "y_tfl_grw = y_tfl_grw.as_matrix()"
   ]
  },
  {
   "cell_type": "code",
   "execution_count": 32,
   "metadata": {
    "colab": {},
    "colab_type": "code",
    "id": "jr7xRr1GnuY1"
   },
   "outputs": [],
   "source": [
    "def process_variable(X): # Function of data normalization.\n",
    "  \n",
    "  X = X.drop('Unnamed: 0', axis = 1)\n",
    "  scaler = StandardScaler()\n",
    "  X = scaler.fit_transform(X)\n",
    "  return(X)"
   ]
  },
  {
   "cell_type": "code",
   "execution_count": 33,
   "metadata": {
    "colab": {},
    "colab_type": "code",
    "id": "aLr7Rjx8IUbo",
    "outputId": "ac16d933-11e4-4549-e32d-4c32a30ca99a"
   },
   "outputs": [],
   "source": [
    "# Normalize rice data\n",
    "X_grw_2 = process_variable(X_grw_2)\n",
    "X_grw_3 = process_variable(X_grw_3)\n",
    "X_grw_4 = process_variable(X_grw_4)\n",
    "X_grw_5 = process_variable(X_grw_5)\n",
    "\n",
    "X_tfl_2 = process_variable(X_tfl_2)\n",
    "X_tfl_3 = process_variable(X_tfl_3)\n",
    "X_tfl_4 = process_variable(X_tfl_4)\n",
    "X_tfl_5 = process_variable(X_tfl_5)\n",
    "X_tfl_6 = process_variable(X_tfl_6)\n",
    "X_tfl_7 = process_variable(X_tfl_7)\n",
    "X_tfl_8 = process_variable(X_tfl_8)\n",
    "\n",
    "X_tfl_grw_2 = process_variable(X_tfl_grw_2)\n",
    "X_tfl_grw_3 = process_variable(X_tfl_grw_3)"
   ]
  },
  {
   "cell_type": "markdown",
   "metadata": {
    "colab_type": "text",
    "id": "Sv6ANDOsh1-0"
   },
   "source": [
    "Try to get number of principal component "
   ]
  },
  {
   "cell_type": "code",
   "execution_count": 34,
   "metadata": {
    "colab": {},
    "colab_type": "code",
    "id": "J6wQlwFfCcwV"
   },
   "outputs": [],
   "source": [
    "# PLS reducing\n",
    "def get_pls(X, y):\n",
    "  from sklearn.cross_decomposition import PLSRegression\n",
    "  k = 0\n",
    "  range_k = []\n",
    "  score = 0\n",
    "  range_score = []\n",
    "\n",
    "  while score <0.999:\n",
    "      k += 1\n",
    "      range_k.append(k)\n",
    "      pls = PLSRegression(n_components=k)\n",
    "      pls.fit(X, y)\n",
    "      score = pls.score(X, y, sample_weight=None)\n",
    "      range_score.append(score)\n",
    "  print(\"with k =\", range_k[-1], \"score =\", range_score[-1])\n",
    "  plt.title(\"Choosing Components in PLS\")\n",
    "  plt.xlabel(\"Number of Components\")\n",
    "  plt.ylabel(\"R_squared\")\n",
    "  plt.bar(range_k, range_score)\n",
    "  print(\"---------------------------\")\n",
    "  print(\"Table of Components\")\n",
    "  pls = PLSRegression(n_components=range_k[-1])\n",
    "  pls.fit(X, y)\n",
    "  X, y = pls.transform(X, y)\n",
    "  return(X)"
   ]
  },
  {
   "cell_type": "code",
   "execution_count": 35,
   "metadata": {
    "colab": {},
    "colab_type": "code",
    "id": "zIPBJx9MBwAg"
   },
   "outputs": [],
   "source": [
    "# Choosing components by PLS\n",
    "def get_pls_comp(X, y, k):\n",
    "    pls = PLSRegression(n_components=k)\n",
    "    pls.fit(X, y)\n",
    "    X_tf, y_tf = pls.transform(X, y)\n",
    "    score = pls.score(X, y, sample_weight=None)\n",
    "    print(score)\n",
    "    return(X_tf)"
   ]
  },
  {
   "cell_type": "code",
   "execution_count": 36,
   "metadata": {
    "colab": {},
    "colab_type": "code",
    "id": "WMFdQL7cPXNl"
   },
   "outputs": [],
   "source": [
    "# PCA reducing\n",
    "def get_pca(X):\n",
    "  pca = PCA()\n",
    "  pca.fit_transform(X)\n",
    "  total = sum(pca.explained_variance_)\n",
    "  k = 0\n",
    "  current_variance = 0\n",
    "  while current_variance/total < 0.99:\n",
    "      current_variance += pca.explained_variance_[k]\n",
    "      k = k + 1\n",
    "      \n",
    "  print(k, \" features explain around 99% of the variance.\", k, sep='')\n",
    "\n",
    "  pca = PCA(n_components=k)\n",
    "  pca.fit(X)\n",
    "  X = pca.transform(X)\n",
    "\n",
    "  var_exp = pca.explained_variance_ratio_.cumsum()\n",
    "  var_exp = var_exp*100\n",
    "  plt.bar(range(k), var_exp);\n",
    "  return(X)"
   ]
  },
  {
   "cell_type": "markdown",
   "metadata": {},
   "source": [
    "Number of components with variation including different p values."
   ]
  },
  {
   "cell_type": "code",
   "execution_count": null,
   "metadata": {
    "colab": {
     "base_uri": "https://localhost:8080/",
     "height": 347
    },
    "colab_type": "code",
    "collapsed": true,
    "executionInfo": {
     "elapsed": 1716163,
     "status": "ok",
     "timestamp": 1579780439897,
     "user": {
      "displayName": "WST Dahlia",
      "photoUrl": "https://lh3.googleusercontent.com/a-/AAuE7mBkQ7g0fzB6AYnEU4Mxmxbqc5lm-ZMouB7RPaVd=s64",
      "userId": "17563820974603365318"
     },
     "user_tz": -420
    },
    "id": "DIFPM0S4jlpC",
    "jupyter": {
     "outputs_hidden": true
    },
    "outputId": "9ed74492-a36f-48b4-8143-7f8e5a9bb809"
   },
   "outputs": [
    {
     "name": "stdout",
     "output_type": "stream",
     "text": [
      "with k = 62 score = 0.9990352719650354\n",
      "---------------------------\n",
      "Table of Components\n"
     ]
    },
    {
     "data": {
      "image/png": "[encoded data removed]",
      "text/plain": [
       "<Figure size 432x288 with 1 Axes>"
      ]
     },
     "metadata": {
      "needs_background": "light",
      "tags": []
     },
     "output_type": "display_data"
    }
   ],
   "source": [
    "X_grw_2_pls = get_pls(X_grw_2, y_grw)"
   ]
  },
  {
   "cell_type": "code",
   "execution_count": 37,
   "metadata": {},
   "outputs": [
    {
     "name": "stdout",
     "output_type": "stream",
     "text": [
      "0.9990350082136877\n"
     ]
    }
   ],
   "source": [
    "X_grw_2_pls = get_pls_comp(X_grw_2, y_grw, 62)"
   ]
  },
  {
   "cell_type": "code",
   "execution_count": 38,
   "metadata": {
    "colab": {},
    "colab_type": "code",
    "id": "IapI2fHsBwAo",
    "outputId": "198827e7-dc1a-45ad-830f-0dbe10c3a978"
   },
   "outputs": [
    {
     "name": "stdout",
     "output_type": "stream",
     "text": [
      "951 features explain around 99% of the variance.951\n"
     ]
    },
    {
     "data": {
      "image/png": "[encoded data removed]",
      "text/plain": [
       "<Figure size 432x288 with 1 Axes>"
      ]
     },
     "metadata": {
      "needs_background": "light"
     },
     "output_type": "display_data"
    }
   ],
   "source": [
    "X_grw_3_pca = get_pca(X_grw_3)"
   ]
  },
  {
   "cell_type": "code",
   "execution_count": 39,
   "metadata": {
    "colab": {},
    "colab_type": "code",
    "id": "oil60u6EBwAr",
    "outputId": "bd635dba-b1a5-45a5-b789-d2532534b56a"
   },
   "outputs": [
    {
     "name": "stdout",
     "output_type": "stream",
     "text": [
      "119 features explain around 99% of the variance.119\n"
     ]
    },
    {
     "data": {
      "image/png": "[encoded data removed]",
      "text/plain": [
       "<Figure size 432x288 with 1 Axes>"
      ]
     },
     "metadata": {
      "needs_background": "light"
     },
     "output_type": "display_data"
    }
   ],
   "source": [
    "X_grw_4_pca = get_pca(X_grw_4)"
   ]
  },
  {
   "cell_type": "code",
   "execution_count": 40,
   "metadata": {
    "colab": {},
    "colab_type": "code",
    "id": "aVYpDVTDBwAu",
    "outputId": "91ef2405-b047-4f7a-cb87-dc7920b85cae"
   },
   "outputs": [
    {
     "name": "stdout",
     "output_type": "stream",
     "text": [
      "13 features explain around 99% of the variance.13\n"
     ]
    },
    {
     "data": {
      "image/png": "[encoded data removed]",
      "text/plain": [
       "<Figure size 432x288 with 1 Axes>"
      ]
     },
     "metadata": {
      "needs_background": "light"
     },
     "output_type": "display_data"
    }
   ],
   "source": [
    "X_grw_5_pca = get_pca(X_grw_5)"
   ]
  },
  {
   "cell_type": "code",
   "execution_count": 41,
   "metadata": {},
   "outputs": [
    {
     "name": "stdout",
     "output_type": "stream",
     "text": [
      "0.999052083814743\n"
     ]
    }
   ],
   "source": [
    "X_tfl_2_pls = get_pls_comp(X_tfl_2, y_tfl, 57)"
   ]
  },
  {
   "cell_type": "code",
   "execution_count": 42,
   "metadata": {},
   "outputs": [
    {
     "name": "stdout",
     "output_type": "stream",
     "text": [
      "0.9990380999942896\n"
     ]
    }
   ],
   "source": [
    "X_tfl_3_pls = get_pls_comp(X_tfl_3, y_tfl, 61)"
   ]
  },
  {
   "cell_type": "code",
   "execution_count": 43,
   "metadata": {},
   "outputs": [
    {
     "name": "stdout",
     "output_type": "stream",
     "text": [
      "0.9990690996716386\n"
     ]
    }
   ],
   "source": [
    "X_tfl_4_pls = get_pls_comp(X_tfl_4, y_tfl, 82)"
   ]
  },
  {
   "cell_type": "code",
   "execution_count": 44,
   "metadata": {
    "colab": {},
    "colab_type": "code",
    "id": "Rpll3E_xBwA7",
    "outputId": "3d6e607b-727f-4c83-fade-31ea7ad9fa1f"
   },
   "outputs": [
    {
     "name": "stdout",
     "output_type": "stream",
     "text": [
      "0.9933569658704732\n"
     ]
    }
   ],
   "source": [
    "X_tfl_5_pls = get_pls_comp(X_tfl_5, y_tfl, 300)"
   ]
  },
  {
   "cell_type": "code",
   "execution_count": 45,
   "metadata": {
    "colab": {},
    "colab_type": "code",
    "id": "GmKB3T2vBwA_",
    "outputId": "fa22a8d0-f9e1-4f73-b4ab-b09ce545b49d"
   },
   "outputs": [
    {
     "name": "stdout",
     "output_type": "stream",
     "text": [
      "242 features explain around 99% of the variance.242\n"
     ]
    },
    {
     "data": {
      "image/png": "[encoded data removed]",
      "text/plain": [
       "<Figure size 432x288 with 1 Axes>"
      ]
     },
     "metadata": {
      "needs_background": "light"
     },
     "output_type": "display_data"
    }
   ],
   "source": [
    "X_tfl_6_pca = get_pca(X_tfl_6)"
   ]
  },
  {
   "cell_type": "code",
   "execution_count": 46,
   "metadata": {
    "colab": {},
    "colab_type": "code",
    "id": "u0to2MtLBwBC",
    "outputId": "67b89895-3855-4686-bbc9-cb02d404002b"
   },
   "outputs": [
    {
     "name": "stdout",
     "output_type": "stream",
     "text": [
      "35 features explain around 99% of the variance.35\n"
     ]
    },
    {
     "data": {
      "image/png": "[encoded data removed]",
      "text/plain": [
       "<Figure size 432x288 with 1 Axes>"
      ]
     },
     "metadata": {
      "needs_background": "light"
     },
     "output_type": "display_data"
    }
   ],
   "source": [
    "X_tfl_7_pca = get_pca(X_tfl_7)"
   ]
  },
  {
   "cell_type": "code",
   "execution_count": 47,
   "metadata": {
    "colab": {},
    "colab_type": "code",
    "id": "kqWRVCrpBwBF",
    "outputId": "740eb2f8-d7e5-4893-9d80-dd63b1c38259"
   },
   "outputs": [
    {
     "name": "stdout",
     "output_type": "stream",
     "text": [
      "5 features explain around 99% of the variance.5\n"
     ]
    },
    {
     "data": {
      "image/png": "[encoded data removed]",
      "text/plain": [
       "<Figure size 432x288 with 1 Axes>"
      ]
     },
     "metadata": {
      "needs_background": "light"
     },
     "output_type": "display_data"
    }
   ],
   "source": [
    "X_tfl_8_pca = get_pca(X_tfl_8)"
   ]
  },
  {
   "cell_type": "code",
   "execution_count": 48,
   "metadata": {
    "colab": {},
    "colab_type": "code",
    "id": "6g4h6tYEBwBH",
    "outputId": "eadad98b-57db-408a-9978-66ddf76fcb70"
   },
   "outputs": [
    {
     "name": "stdout",
     "output_type": "stream",
     "text": [
      "0.9984596188350666\n"
     ]
    }
   ],
   "source": [
    "X_tfl_grw_2_pls = get_pls_comp(X_tfl_grw_2, y_tfl_grw, 200)"
   ]
  },
  {
   "cell_type": "code",
   "execution_count": 49,
   "metadata": {
    "colab": {},
    "colab_type": "code",
    "id": "X7G-qFxMBwBI",
    "outputId": "538f727f-4579-4774-80d6-dc2708d6d70b"
   },
   "outputs": [
    {
     "name": "stdout",
     "output_type": "stream",
     "text": [
      "35 features explain around 99% of the variance.35\n"
     ]
    },
    {
     "data": {
      "image/png": "[encoded data removed]",
      "text/plain": [
       "<Figure size 432x288 with 1 Axes>"
      ]
     },
     "metadata": {
      "needs_background": "light"
     },
     "output_type": "display_data"
    }
   ],
   "source": [
    "X_tfl_grw_3_pca = get_pca(X_tfl_grw_3)"
   ]
  },
  {
   "cell_type": "markdown",
   "metadata": {
    "colab_type": "text",
    "id": "9HDcFzcWUc1Q"
   },
   "source": [
    "### 2.2 Machine Learning Models"
   ]
  },
  {
   "cell_type": "markdown",
   "metadata": {},
   "source": [
    "#### Evaluation method"
   ]
  },
  {
   "cell_type": "markdown",
   "metadata": {},
   "source": [
    "<b>Mean squared error (MSE)</b> is the average squared difference between the predicted values and observed values. MSE is always greater or equal to zero, the smaller the MSE, the better the model.\n",
    "$$MSE = \\dfrac{1}{N}\\sum^N_{i=1}(y_{obs}^{(i)} - y_{pred}^{(i)})^2 $$\n",
    "<b>R-squared</b> is a statistical measure that represents the proportion of variance for response variation explained by explanatory variation. It is mean that if r-square of the model is 0.7, then 70% observed variation can be explained by input variation.\n",
    "$$R^2 = 1- \\dfrac{explained\\,{variance}}{total\\,variance} = 1 - \\dfrac{\\sum^m_{i=1}(y^{(i)}-y^{(i)}_{pred})^2}{\\sum^m_{i=1}(y^{(i)}-y^{(i)}_{mean})^2}$$"
   ]
  },
  {
   "cell_type": "markdown",
   "metadata": {},
   "source": [
    "#### k-fold cross-validation"
   ]
  },
  {
   "cell_type": "markdown",
   "metadata": {},
   "source": [
    "One divide the data into 10 folds, and take turns to choose 1 fold as a testing set, the other 9 folds as training set for each model. \n",
    "Model evaluation metrics are averaged from the MSE and R-squared of the models."
   ]
  },
  {
   "cell_type": "markdown",
   "metadata": {},
   "source": [
    "#### Grid Search CV"
   ]
  },
  {
   "cell_type": "markdown",
   "metadata": {},
   "source": [
    "<b>Grid Search CV</b> is used to select parameters for models, the purpose is to choose the model that achieves the highest accuracy. After choosing the best parameters using grid search cv with the mean squared error metric, one will use those parameters to calculate the r-squared of the model."
   ]
  },
  {
   "cell_type": "markdown",
   "metadata": {
    "colab_type": "text",
    "id": "hptfBqrHj1eT"
   },
   "source": [
    "#### 2.2.1 Random Forest Regressor"
   ]
  },
  {
   "cell_type": "code",
   "execution_count": 63,
   "metadata": {},
   "outputs": [],
   "source": [
    "rf_grw_mse = []\n",
    "rf_grw_r2 = []\n",
    "rf_tfl_mse = []\n",
    "rf_tfl_r2 = []\n",
    "rf_tfl_grw_mse = []\n",
    "rf_tfl_grw_r2 = []"
   ]
  },
  {
   "cell_type": "code",
   "execution_count": 64,
   "metadata": {
    "colab": {},
    "colab_type": "code",
    "id": "p34z5YWMskME"
   },
   "outputs": [],
   "source": [
    "# Evaluate methods\n",
    "scoring = ['explained_variance', 'neg_mean_absolute_error', 'neg_mean_squared_error', 'r2']"
   ]
  },
  {
   "cell_type": "code",
   "execution_count": 65,
   "metadata": {
    "colab": {},
    "colab_type": "code",
    "id": "gNlOo_i9Uc10"
   },
   "outputs": [],
   "source": [
    "\"\"\"Function to run random forest with grid search and k-fold cross-validation.\"\"\"\n",
    "def get_rf_model(X, y):\n",
    "  # Hyperparameters search grid \n",
    "  rf_param_grid = {'bootstrap': [False, True],\n",
    "          'n_estimators': [60, 70, 80, 90, 100],\n",
    "          'max_features': [0.6, 0.65, 0.7, 0.75, 0.8],\n",
    "          'min_samples_leaf': [1],\n",
    "          'min_samples_split': [2]\n",
    "          }\n",
    "\n",
    "  # Instantiate random forest regressor\n",
    "  rf_estimator = RandomForestRegressor(random_state=None)\n",
    "\n",
    "  # Create the GridSearchCV object\n",
    "  rf_model = GridSearchCV(estimator=rf_estimator, param_grid=rf_param_grid, cv=10, scoring = scoring, refit = 'neg_mean_squared_error', n_jobs=-1)\n",
    "\n",
    "  # Fine-tune the hyperparameters\n",
    "  rf_model.fit(X, y)\n",
    "  print(\"Best Parameters:\\n\", rf_model.best_params_)\n",
    "  print(\"Best Score:\\n\", -rf_model.best_score_)\n",
    "  return(-rf_model.best_score_)"
   ]
  },
  {
   "cell_type": "markdown",
   "metadata": {},
   "source": [
    "Random forest for grain weight with p-value less than 5e-2"
   ]
  },
  {
   "cell_type": "code",
   "execution_count": 66,
   "metadata": {
    "colab": {
     "base_uri": "https://localhost:8080/",
     "height": 292
    },
    "colab_type": "code",
    "executionInfo": {
     "elapsed": 965,
     "status": "error",
     "timestamp": 1579780782769,
     "user": {
      "displayName": "WST Dahlia",
      "photoUrl": "https://lh3.googleusercontent.com/a-/AAuE7mBkQ7g0fzB6AYnEU4Mxmxbqc5lm-ZMouB7RPaVd=s64",
      "userId": "17563820974603365318"
     },
     "user_tz": -420
    },
    "id": "Gw7ki1eHPT6U",
    "outputId": "d0573ec4-1c17-48be-c651-85eebb987bef"
   },
   "outputs": [
    {
     "name": "stdout",
     "output_type": "stream",
     "text": [
      "Best Parameters:\n",
      " {'max_features': 0.6, 'min_samples_split': 2, 'min_samples_leaf': 1, 'n_estimators': 60, 'bootstrap': False}\n",
      "Best Score:\n",
      " 0.06673007252838713\n"
     ]
    }
   ],
   "source": [
    "rf_grw_mse_2 = get_rf_model(X_grw_2_pls, y_grw)\n",
    "rf_grw_mse.append(rf_grw_mse_2)"
   ]
  },
  {
   "cell_type": "code",
   "execution_count": 126,
   "metadata": {},
   "outputs": [
    {
     "name": "stdout",
     "output_type": "stream",
     "text": [
      "R-squared: 0.6957773234539817\n"
     ]
    }
   ],
   "source": [
    "rf_grw_2 = RandomForestRegressor(bootstrap= False, max_features= 0.6, min_samples_leaf= 1, min_samples_split= 2, n_estimators= 60, random_state=None)\n",
    "rf_grw_r2_2 = cross_val_score(estimator = rf_grw_2, X = X_grw_2_pls, y = y_grw, scoring='r2', cv=10, n_jobs=-1)\n",
    "print('R-squared:', rf_grw_r2_2.mean())\n",
    "rf_grw_r2.append(rf_grw_r2_2.mean())"
   ]
  },
  {
   "cell_type": "markdown",
   "metadata": {},
   "source": [
    "Random forest for grain weight with p-value less than 5e-3"
   ]
  },
  {
   "cell_type": "code",
   "execution_count": 69,
   "metadata": {
    "colab": {},
    "colab_type": "code",
    "id": "CFTOECVu0ofC"
   },
   "outputs": [
    {
     "name": "stdout",
     "output_type": "stream",
     "text": [
      "Best Parameters:\n",
      " {'max_features': 0.6, 'min_samples_split': 2, 'min_samples_leaf': 1, 'n_estimators': 100, 'bootstrap': True}\n",
      "Best Score:\n",
      " 0.21230774630812246\n"
     ]
    }
   ],
   "source": [
    "rf_grw_mse_3 = get_rf_model(X_grw_3_pca, y_grw)\n",
    "rf_grw_mse.append(rf_grw_mse_3)"
   ]
  },
  {
   "cell_type": "code",
   "execution_count": 127,
   "metadata": {},
   "outputs": [
    {
     "name": "stdout",
     "output_type": "stream",
     "text": [
      "R-squared: 0.056653390477981055\n"
     ]
    }
   ],
   "source": [
    "rf_grw_3 = RandomForestRegressor(bootstrap= True, max_features= 0.6, min_samples_leaf= 1, min_samples_split= 2, n_estimators= 100, random_state=None)\n",
    "rf_grw_r2_3 = cross_val_score(estimator = rf_grw_3, X = X_grw_3_pca, y = y_grw, scoring='r2', cv=10, n_jobs=-1)\n",
    "print('R-squared:',rf_grw_r2_3.mean())\n",
    "rf_grw_r2.append(rf_grw_r2_3.mean())"
   ]
  },
  {
   "cell_type": "markdown",
   "metadata": {},
   "source": [
    "Random forest for grain weight with p-value less than 5e-4"
   ]
  },
  {
   "cell_type": "code",
   "execution_count": 70,
   "metadata": {
    "colab": {},
    "colab_type": "code",
    "id": "ozQIUAaV0rEE",
    "outputId": "c171bed7-8f2c-4672-b307-de98b5fd6518"
   },
   "outputs": [
    {
     "name": "stdout",
     "output_type": "stream",
     "text": [
      "Best Parameters:\n",
      " {'max_features': 0.75, 'min_samples_split': 2, 'min_samples_leaf': 1, 'n_estimators': 80, 'bootstrap': True}\n",
      "Best Score:\n",
      " 0.21829881082743907\n"
     ]
    }
   ],
   "source": [
    "rf_grw_mse_4 = get_rf_model(X_grw_4_pca, y_grw)\n",
    "rf_grw_mse.append(rf_grw_mse_4)"
   ]
  },
  {
   "cell_type": "code",
   "execution_count": 128,
   "metadata": {},
   "outputs": [
    {
     "name": "stdout",
     "output_type": "stream",
     "text": [
      "R-squared: 0.02463761501861598\n"
     ]
    }
   ],
   "source": [
    "rf_grw_4 = RandomForestRegressor(bootstrap= True, max_features= 0.75, min_samples_leaf= 1, min_samples_split= 2, n_estimators= 80, random_state=None)\n",
    "rf_grw_r2_4 = cross_val_score(estimator = rf_grw_4, X = X_grw_4_pca, y = y_grw, scoring='r2', cv=10, n_jobs=-1)\n",
    "print('R-squared:',rf_grw_r2_4.mean())\n",
    "rf_grw_r2.append(rf_grw_r2_4.mean())"
   ]
  },
  {
   "cell_type": "markdown",
   "metadata": {},
   "source": [
    "Random forest for grain weight with p-value less than 5e-5"
   ]
  },
  {
   "cell_type": "code",
   "execution_count": 71,
   "metadata": {
    "colab": {},
    "colab_type": "code",
    "id": "CPAQwjof0saK",
    "outputId": "c6d781dc-ff4b-4434-e6fc-d93aa86bd546"
   },
   "outputs": [
    {
     "name": "stdout",
     "output_type": "stream",
     "text": [
      "Best Parameters:\n",
      " {'max_features': 0.6, 'min_samples_split': 2, 'min_samples_leaf': 1, 'n_estimators': 70, 'bootstrap': True}\n",
      "Best Score:\n",
      " 0.2283588754516306\n"
     ]
    }
   ],
   "source": [
    "rf_grw_mse_5 = get_rf_model(X_grw_5_pca, y_grw)\n",
    "rf_grw_mse.append(rf_grw_mse_5)"
   ]
  },
  {
   "cell_type": "code",
   "execution_count": 129,
   "metadata": {},
   "outputs": [
    {
     "name": "stdout",
     "output_type": "stream",
     "text": [
      "R-squared: -0.013663429775344649\n"
     ]
    }
   ],
   "source": [
    "rf_grw_5 = RandomForestRegressor(bootstrap= True, max_features= 0.6, min_samples_leaf= 1, min_samples_split= 2, n_estimators= 70, random_state=None)\n",
    "rf_grw_r2_5 = cross_val_score(estimator = rf_grw_5, X = X_grw_5_pca, y = y_grw, scoring='r2', cv=10, n_jobs=-1)\n",
    "print('R-squared:',rf_grw_r2_5.mean())\n",
    "rf_grw_r2.append(rf_grw_r2_5.mean())"
   ]
  },
  {
   "cell_type": "markdown",
   "metadata": {},
   "source": [
    "Random forest for time to flowering with p-value less than 5e-2"
   ]
  },
  {
   "cell_type": "code",
   "execution_count": 72,
   "metadata": {
    "colab": {},
    "colab_type": "code",
    "id": "diTSjSAxBwBf",
    "outputId": "e9a35311-9c6f-45ab-c759-f62bc864dc45"
   },
   "outputs": [
    {
     "name": "stdout",
     "output_type": "stream",
     "text": [
      "Best Parameters:\n",
      " {'max_features': 0.6, 'min_samples_split': 2, 'min_samples_leaf': 1, 'n_estimators': 90, 'bootstrap': False}\n",
      "Best Score:\n",
      " 143.52161663000615\n"
     ]
    }
   ],
   "source": [
    "rf_tfl_mse_2 = get_rf_model(X_tfl_2_pls, y_tfl)\n",
    "rf_tfl_mse.append(rf_tfl_mse_2)"
   ]
  },
  {
   "cell_type": "code",
   "execution_count": 133,
   "metadata": {},
   "outputs": [
    {
     "name": "stdout",
     "output_type": "stream",
     "text": [
      "R-squared: 0.7198994197175418\n"
     ]
    }
   ],
   "source": [
    "rf_tfl_2 = RandomForestRegressor(bootstrap= False, max_features= 0.6, min_samples_leaf= 1, min_samples_split= 2, n_estimators= 90, random_state=None)\n",
    "rf_tfl_r2_2 = cross_val_score(estimator = rf_tfl_2, X = X_tfl_2_pls, y = y_tfl, scoring='r2', cv=10, n_jobs=-1)\n",
    "print('R-squared:',rf_tfl_r2_2.mean())\n",
    "rf_tfl_r2.append(rf_tfl_r2_2.mean())"
   ]
  },
  {
   "cell_type": "markdown",
   "metadata": {},
   "source": [
    "Random forest for time to flowering with p-value less than 5e-3"
   ]
  },
  {
   "cell_type": "code",
   "execution_count": 73,
   "metadata": {
    "colab": {},
    "colab_type": "code",
    "id": "HWZvYPxaBwBh",
    "outputId": "986c11c4-582c-489c-f594-78044b7d7f92"
   },
   "outputs": [
    {
     "name": "stdout",
     "output_type": "stream",
     "text": [
      "Best Parameters:\n",
      " {'max_features': 0.6, 'min_samples_split': 2, 'min_samples_leaf': 1, 'n_estimators': 100, 'bootstrap': False}\n",
      "Best Score:\n",
      " 162.20124408774745\n"
     ]
    }
   ],
   "source": [
    "rf_tfl_mse_3 = get_rf_model(X_tfl_3_pls, y_tfl)\n",
    "rf_tfl_mse.append(rf_tfl_mse_3)"
   ]
  },
  {
   "cell_type": "code",
   "execution_count": 134,
   "metadata": {},
   "outputs": [
    {
     "name": "stdout",
     "output_type": "stream",
     "text": [
      "R-squared: 0.6795712592297816\n"
     ]
    }
   ],
   "source": [
    "rf_tfl_3 = RandomForestRegressor(bootstrap= True, max_features= 0.6, min_samples_leaf= 1, min_samples_split= 2, n_estimators= 100, random_state=None)\n",
    "rf_tfl_r2_3 = cross_val_score(estimator = rf_tfl_3, X = X_tfl_3_pls, y = y_tfl, scoring='r2', cv=10, n_jobs=-1)\n",
    "print('R-squared:',rf_tfl_r2_3.mean())\n",
    "rf_tfl_r2.append(rf_tfl_r2_3.mean())"
   ]
  },
  {
   "cell_type": "markdown",
   "metadata": {},
   "source": [
    "Random forest for time to flowering with p-value less than 5e-4"
   ]
  },
  {
   "cell_type": "code",
   "execution_count": 74,
   "metadata": {
    "colab": {},
    "colab_type": "code",
    "id": "nzoE3VhdBwBj",
    "outputId": "d5d104f1-0176-4cca-c807-999b3069bfd2"
   },
   "outputs": [
    {
     "name": "stdout",
     "output_type": "stream",
     "text": [
      "Best Parameters:\n",
      " {'max_features': 0.8, 'min_samples_split': 2, 'min_samples_leaf': 1, 'n_estimators': 80, 'bootstrap': True}\n",
      "Best Score:\n",
      " 212.00538130350455\n"
     ]
    }
   ],
   "source": [
    "rf_tfl_mse_4 = get_rf_model(X_tfl_4_pls, y_tfl)\n",
    "rf_tfl_mse.append(rf_tfl_mse_4)"
   ]
  },
  {
   "cell_type": "code",
   "execution_count": 135,
   "metadata": {},
   "outputs": [
    {
     "name": "stdout",
     "output_type": "stream",
     "text": [
      "R-squared: 0.5811758684769539\n"
     ]
    }
   ],
   "source": [
    "rf_tfl_4 = RandomForestRegressor(bootstrap= True, max_features= 0.8, min_samples_leaf= 1, min_samples_split= 2, n_estimators= 80, random_state=None)\n",
    "rf_tfl_r2_4 = cross_val_score(estimator = rf_tfl_4, X = X_tfl_4_pls, y = y_tfl, scoring='r2', cv=10, n_jobs=-1)\n",
    "print('R-squared:',rf_tfl_r2_4.mean())\n",
    "rf_tfl_r2.append(rf_tfl_r2_4.mean())"
   ]
  },
  {
   "cell_type": "markdown",
   "metadata": {},
   "source": [
    "Random forest for time to flowering with p-value less than 5e-5"
   ]
  },
  {
   "cell_type": "code",
   "execution_count": 75,
   "metadata": {
    "colab": {},
    "colab_type": "code",
    "id": "oMjfaxP_BwBl",
    "outputId": "cfd01298-c5cb-4002-a4de-ced580736ee6"
   },
   "outputs": [
    {
     "name": "stdout",
     "output_type": "stream",
     "text": [
      "Best Parameters:\n",
      " {'max_features': 0.6, 'min_samples_split': 2, 'min_samples_leaf': 1, 'n_estimators': 90, 'bootstrap': True}\n",
      "Best Score:\n",
      " 355.1740963346082\n"
     ]
    }
   ],
   "source": [
    "rf_tfl_mse_5 = get_rf_model(X_tfl_5_pls, y_tfl)\n",
    "rf_tfl_mse.append(rf_tfl_mse_5)"
   ]
  },
  {
   "cell_type": "code",
   "execution_count": 136,
   "metadata": {},
   "outputs": [
    {
     "name": "stdout",
     "output_type": "stream",
     "text": [
      "R-squared: 0.3069017309745235\n"
     ]
    }
   ],
   "source": [
    "rf_tfl_5 = RandomForestRegressor(bootstrap= True, max_features= 0.6, min_samples_leaf= 1, min_samples_split= 2, n_estimators= 90, random_state=None)\n",
    "rf_tfl_r2_5 = cross_val_score(estimator = rf_tfl_5, X = X_tfl_5_pls, y = y_tfl, scoring='r2', cv=10, n_jobs=-1)\n",
    "print('R-squared:',rf_tfl_r2_5.mean())\n",
    "rf_tfl_r2.append(rf_tfl_r2_5.mean())"
   ]
  },
  {
   "cell_type": "markdown",
   "metadata": {},
   "source": [
    "Random forest for time to flowering with p-value less than 5e-6"
   ]
  },
  {
   "cell_type": "code",
   "execution_count": 76,
   "metadata": {
    "colab": {},
    "colab_type": "code",
    "id": "z3UxK8rLBwBo",
    "outputId": "e4b55126-5216-48b6-ecd5-eaf116884879"
   },
   "outputs": [
    {
     "name": "stdout",
     "output_type": "stream",
     "text": [
      "Best Parameters:\n",
      " {'max_features': 0.65, 'min_samples_split': 2, 'min_samples_leaf': 1, 'n_estimators': 90, 'bootstrap': True}\n",
      "Best Score:\n",
      " 545.7057145401463\n"
     ]
    }
   ],
   "source": [
    "rf_tfl_mse_6 = get_rf_model(X_tfl_6_pca, y_tfl)\n",
    "rf_tfl_mse.append(rf_tfl_mse_6)"
   ]
  },
  {
   "cell_type": "code",
   "execution_count": 137,
   "metadata": {},
   "outputs": [
    {
     "name": "stdout",
     "output_type": "stream",
     "text": [
      "R-squared: -0.06421646431674159\n"
     ]
    }
   ],
   "source": [
    "rf_tfl_6 = RandomForestRegressor(bootstrap= True, max_features= 0.65, min_samples_leaf= 1, min_samples_split= 2, n_estimators= 90, random_state=None)\n",
    "rf_tfl_r2_6 = cross_val_score(estimator = rf_tfl_6, X = X_tfl_6_pca, y = y_tfl, scoring='r2', cv=10, n_jobs=-1)\n",
    "print('R-squared:',rf_tfl_r2_6.mean())\n",
    "rf_tfl_r2.append(rf_tfl_r2_6.mean())"
   ]
  },
  {
   "cell_type": "markdown",
   "metadata": {},
   "source": [
    "Random forest for time to flowering with p-value less than 5e-7"
   ]
  },
  {
   "cell_type": "code",
   "execution_count": 77,
   "metadata": {
    "colab": {},
    "colab_type": "code",
    "id": "740Cs4ktBwBq",
    "outputId": "5b54c411-54fa-4074-fc52-ae4f96894f83"
   },
   "outputs": [
    {
     "name": "stdout",
     "output_type": "stream",
     "text": [
      "Best Parameters:\n",
      " {'max_features': 0.7, 'min_samples_split': 2, 'min_samples_leaf': 1, 'n_estimators': 70, 'bootstrap': True}\n",
      "Best Score:\n",
      " 583.1727532984427\n"
     ]
    }
   ],
   "source": [
    "rf_tfl_mse_7 = get_rf_model(X_tfl_7_pca, y_tfl)\n",
    "rf_tfl_mse.append(rf_tfl_mse_7)"
   ]
  },
  {
   "cell_type": "code",
   "execution_count": 138,
   "metadata": {},
   "outputs": [
    {
     "name": "stdout",
     "output_type": "stream",
     "text": [
      "R-squared: -0.15081693155263828\n"
     ]
    }
   ],
   "source": [
    "rf_tfl_7 = RandomForestRegressor(bootstrap= True, max_features= 0.7, min_samples_leaf= 1, min_samples_split= 2, n_estimators= 70, random_state=None)\n",
    "rf_tfl_r2_7 = cross_val_score(estimator = rf_tfl_7, X = X_tfl_7_pca, y = y_tfl, scoring='r2', cv=10, n_jobs=-1)\n",
    "print('R-squared:',rf_tfl_r2_7.mean())\n",
    "rf_tfl_r2.append(rf_tfl_r2_7.mean())"
   ]
  },
  {
   "cell_type": "markdown",
   "metadata": {},
   "source": [
    "Random forest for time to flowering with p-value less than 5e-8"
   ]
  },
  {
   "cell_type": "code",
   "execution_count": 78,
   "metadata": {
    "colab": {},
    "colab_type": "code",
    "id": "uP0lHwHdBwBv",
    "outputId": "fef9a02f-72e7-49aa-f053-5d6ee34d1ff0"
   },
   "outputs": [
    {
     "name": "stdout",
     "output_type": "stream",
     "text": [
      "Best Parameters:\n",
      " {'max_features': 0.75, 'min_samples_split': 2, 'min_samples_leaf': 1, 'n_estimators': 60, 'bootstrap': True}\n",
      "Best Score:\n",
      " 552.8475957088413\n"
     ]
    }
   ],
   "source": [
    "rf_tfl_mse_8 = get_rf_model(X_tfl_8_pca, y_tfl)\n",
    "rf_tfl_mse.append(rf_tfl_mse_8)"
   ]
  },
  {
   "cell_type": "code",
   "execution_count": 139,
   "metadata": {},
   "outputs": [
    {
     "name": "stdout",
     "output_type": "stream",
     "text": [
      "R-squared: -0.06746362344191081\n"
     ]
    }
   ],
   "source": [
    "rf_tfl_8 = RandomForestRegressor(bootstrap= True, max_features= 0.75, min_samples_leaf= 1, min_samples_split= 2, n_estimators= 60, random_state=None)\n",
    "rf_tfl_r2_8 = cross_val_score(estimator = rf_tfl_8, X = X_tfl_8_pca, y = y_tfl, scoring='r2', cv=10, n_jobs=-1)\n",
    "print('R-squared:',rf_tfl_r2_8.mean())\n",
    "rf_tfl_r2.append(rf_tfl_r2_8.mean())"
   ]
  },
  {
   "cell_type": "markdown",
   "metadata": {},
   "source": [
    "Random forest for time to flowering and grain weight with p-value less than 5e-2"
   ]
  },
  {
   "cell_type": "code",
   "execution_count": 144,
   "metadata": {
    "colab": {},
    "colab_type": "code",
    "id": "2m6QzSiSBwBw",
    "outputId": "6b66f5c7-abed-4035-b7f7-8c09630ec703"
   },
   "outputs": [
    {
     "name": "stdout",
     "output_type": "stream",
     "text": [
      "Best Parameters:\n",
      " {'max_features': 0.8, 'min_samples_split': 2, 'min_samples_leaf': 1, 'n_estimators': 100, 'bootstrap': True}\n",
      "Best Score:\n",
      " 153.1345777271268\n"
     ]
    }
   ],
   "source": [
    "rf_tfl_grw_mse_2 = get_rf_model(X_tfl_grw_2_pls, y_tfl_grw)\n",
    "rf_tfl_grw_mse.append(rf_tfl_grw_mse_2)"
   ]
  },
  {
   "cell_type": "code",
   "execution_count": 158,
   "metadata": {},
   "outputs": [
    {
     "name": "stdout",
     "output_type": "stream",
     "text": [
      "R-squared: 0.22667164744256213\n"
     ]
    }
   ],
   "source": [
    "rf_tfl_grw_2 = RandomForestRegressor(bootstrap= False, max_features= 0.8, min_samples_leaf= 1, min_samples_split= 2, n_estimators= 100, random_state=None)\n",
    "rf_tfl_grw_r2_2 = cross_val_score(estimator = rf_tfl_grw_2, X = X_tfl_grw_2_pls, y = y_tfl_grw, scoring='r2', cv=10, n_jobs=-1)\n",
    "print('R-squared:',rf_tfl_grw_r2_2.mean())\n",
    "rf_tfl_grw_r2.append(rf_tfl_grw_r2_2.mean())"
   ]
  },
  {
   "cell_type": "markdown",
   "metadata": {},
   "source": [
    "Random forest for time to flowering and grain weight with p-value less than 5e-3"
   ]
  },
  {
   "cell_type": "code",
   "execution_count": 145,
   "metadata": {
    "colab": {},
    "colab_type": "code",
    "id": "UDDGllt8BwBy",
    "outputId": "be884fdd-f7bc-471a-f0be-5b216a32a07d"
   },
   "outputs": [
    {
     "name": "stdout",
     "output_type": "stream",
     "text": [
      "Best Parameters:\n",
      " {'max_features': 0.8, 'min_samples_split': 2, 'min_samples_leaf': 1, 'n_estimators': 80, 'bootstrap': True}\n",
      "Best Score:\n",
      " 305.6289266823951\n"
     ]
    }
   ],
   "source": [
    "rf_tfl_grw_mse_3 = get_rf_model(X_tfl_grw_3_pca, y_tfl_grw)\n",
    "rf_tfl_grw_mse.append(rf_tfl_grw_mse_3)"
   ]
  },
  {
   "cell_type": "code",
   "execution_count": 159,
   "metadata": {},
   "outputs": [
    {
     "name": "stdout",
     "output_type": "stream",
     "text": [
      "R-squared: -0.2699641459135067\n"
     ]
    }
   ],
   "source": [
    "rf_tfl_grw_3 = RandomForestRegressor(bootstrap= False, max_features= 0.8, min_samples_leaf= 1, min_samples_split= 2, n_estimators= 80, random_state=None)\n",
    "rf_tfl_grw_r2_3 = cross_val_score(estimator = rf_tfl_grw_3, X = X_tfl_grw_3_pca, y = y_tfl_grw, scoring='r2', cv=10, n_jobs=-1)\n",
    "print('R-squared:',rf_tfl_grw_r2_3.mean())\n",
    "rf_tfl_grw_r2.append(rf_tfl_grw_r2_3.mean())"
   ]
  },
  {
   "cell_type": "markdown",
   "metadata": {
    "colab_type": "text",
    "id": "4COqntXskF1z"
   },
   "source": [
    "#### 2.2.2 Support Vector Machine Regressor"
   ]
  },
  {
   "cell_type": "code",
   "execution_count": 81,
   "metadata": {},
   "outputs": [],
   "source": [
    "svr_grw_mse = []\n",
    "svr_grw_r2 = []\n",
    "svr_tfl_mse = []\n",
    "svr_tfl_r2 = []\n",
    "svr_tfl_grw_mse = []\n",
    "svr_tfl_grw_r2 = []"
   ]
  },
  {
   "cell_type": "code",
   "execution_count": 82,
   "metadata": {
    "colab": {},
    "colab_type": "code",
    "id": "a_UWBYpWbulg"
   },
   "outputs": [],
   "source": [
    "def get_svm_model(X, y):\n",
    "  # Parameter grid\n",
    "  svm_param_grid = {'C': [0.1, 1, 10, 100], 'gamma': [1, 0.1, 0.01, 0.001, 0.0001, 10], \"kernel\": [\"rbf\", \"poly\", \"sigmoid\"]}  \n",
    "  # Create SVM grid search regressor\n",
    "  svm_grid = GridSearchCV(estimator = SVR(), param_grid= svm_param_grid, cv=10, scoring='neg_mean_squared_error', n_jobs=-1)\n",
    "  # Train the regressor\n",
    "  svm_grid.fit(X, y)\n",
    "\n",
    "  print(\"Best Parameters:\\n\", svm_grid.best_params_)\n",
    "  print(\"Best Score:\\n\", -svm_grid.best_score_)\n",
    "  return(-svm_grid.best_score_)"
   ]
  },
  {
   "cell_type": "code",
   "execution_count": 83,
   "metadata": {},
   "outputs": [],
   "source": [
    "def get_svm_model_not_poly(X, y):\n",
    "  # Parameter grid \n",
    "  svm_param_grid = {'C': [0.1, 1, 10, 100], 'gamma': [1, 0.1, 0.01, 0.001, 0.0001, 10], \"kernel\": [\"rbf\",\"sigmoid\"]} \n",
    "  # Create SVM grid search regressor\n",
    "  svm_grid = GridSearchCV(estimator = SVR(), param_grid= svm_param_grid, cv=10, scoring='neg_mean_squared_error', n_jobs=-1)\n",
    "  # Train the regressor\n",
    "  svm_grid.fit(X, y)\n",
    "\n",
    "  print(\"Best Parameters:\\n\", svm_grid.best_params_)\n",
    "  print(\"Best Score:\\n\", -svm_grid.best_score_)\n",
    "  return(-svm_grid.best_score_)"
   ]
  },
  {
   "cell_type": "code",
   "execution_count": 84,
   "metadata": {
    "colab": {
     "base_uri": "https://localhost:8080/",
     "height": 1000
    },
    "colab_type": "code",
    "executionInfo": {
     "elapsed": 151421,
     "status": "ok",
     "timestamp": 1579780781752,
     "user": {
      "displayName": "WST Dahlia",
      "photoUrl": "https://lh3.googleusercontent.com/a-/AAuE7mBkQ7g0fzB6AYnEU4Mxmxbqc5lm-ZMouB7RPaVd=s64",
      "userId": "17563820974603365318"
     },
     "user_tz": -420
    },
    "id": "9iqZqgUScAEt",
    "outputId": "876ee620-ecba-4caf-fe67-3189e0f8083b"
   },
   "outputs": [
    {
     "name": "stdout",
     "output_type": "stream",
     "text": [
      "Best Parameters:\n",
      " {'C': 0.1, 'gamma': 0.0001, 'kernel': 'sigmoid'}\n",
      "Best Score:\n",
      " 0.004944871224330078\n"
     ]
    }
   ],
   "source": [
    "svr_grw_mse_2 = get_svm_model(X_grw_2_pls, y_grw)\n",
    "svr_grw_mse.append(svr_grw_mse_2)"
   ]
  },
  {
   "cell_type": "code",
   "execution_count": 146,
   "metadata": {},
   "outputs": [
    {
     "name": "stdout",
     "output_type": "stream",
     "text": [
      "R-squared: 0.9779751763122133\n"
     ]
    }
   ],
   "source": [
    "svr_grw_2 = SVR(C = 0.1, gamma = 0.0001, kernel = 'sigmoid')\n",
    "svr_grw_r2_2= cross_val_score(estimator = svr_grw_2, X = X_grw_2_pls, y = y_grw, scoring='r2', cv=10, n_jobs=-1)\n",
    "print('R-squared:',svr_grw_r2_2.mean())\n",
    "svr_grw_r2.append(svr_grw_r2_2.mean())"
   ]
  },
  {
   "cell_type": "code",
   "execution_count": 85,
   "metadata": {
    "colab": {},
    "colab_type": "code",
    "id": "TctULJDR0wkU"
   },
   "outputs": [
    {
     "name": "stdout",
     "output_type": "stream",
     "text": [
      "Best Parameters:\n",
      " {'C': 1, 'gamma': 0.0001, 'kernel': 'sigmoid'}\n",
      "Best Score:\n",
      " 0.19201640219425326\n"
     ]
    }
   ],
   "source": [
    "svr_grw_mse_3 = get_svm_model_not_poly(X_grw_3_pca, y_grw)\n",
    "svr_grw_mse.append(svr_grw_mse_3)"
   ]
  },
  {
   "cell_type": "code",
   "execution_count": 147,
   "metadata": {},
   "outputs": [
    {
     "name": "stdout",
     "output_type": "stream",
     "text": [
      "R-squared: 0.14935469187688893\n"
     ]
    }
   ],
   "source": [
    "svr_grw_3 = SVR(C = 1, gamma = 0.0001, kernel = 'sigmoid')\n",
    "svr_grw_r2_3 = cross_val_score(estimator = svr_grw_3, X = X_grw_3_pca, y = y_grw, scoring='r2', cv=10, n_jobs=-1)\n",
    "print('R-squared:',svr_grw_r2_3.mean())\n",
    "svr_grw_r2.append(svr_grw_r2_3.mean())"
   ]
  },
  {
   "cell_type": "code",
   "execution_count": 86,
   "metadata": {
    "colab": {},
    "colab_type": "code",
    "id": "DPoPMP6d0ybt"
   },
   "outputs": [
    {
     "name": "stdout",
     "output_type": "stream",
     "text": [
      "Best Parameters:\n",
      " {'C': 1, 'gamma': 0.0001, 'kernel': 'rbf'}\n",
      "Best Score:\n",
      " 0.21037681409584902\n"
     ]
    }
   ],
   "source": [
    "svr_grw_mse_4 = get_svm_model_not_poly(X_grw_4_pca, y_grw)\n",
    "svr_grw_mse.append(svr_grw_mse_4)"
   ]
  },
  {
   "cell_type": "code",
   "execution_count": 148,
   "metadata": {},
   "outputs": [
    {
     "name": "stdout",
     "output_type": "stream",
     "text": [
      "R-squared: 0.07019754070630599\n"
     ]
    }
   ],
   "source": [
    "svr_grw_4 = SVR(C = 1, gamma = 0.0001, kernel = 'rbf')\n",
    "svr_grw_r2_4 = cross_val_score(estimator = svr_grw_4, X = X_grw_4_pca, y = y_grw, scoring='r2', cv=10, n_jobs=-1)\n",
    "print('R-squared:',svr_grw_r2_4.mean())\n",
    "svr_grw_r2.append(svr_grw_r2_4.mean())"
   ]
  },
  {
   "cell_type": "code",
   "execution_count": 87,
   "metadata": {
    "colab": {},
    "colab_type": "code",
    "id": "8OmeYqXE0z5g"
   },
   "outputs": [
    {
     "name": "stdout",
     "output_type": "stream",
     "text": [
      "Best Parameters:\n",
      " {'C': 0.1, 'gamma': 0.01, 'kernel': 'rbf'}\n",
      "Best Score:\n",
      " 0.2276695720780616\n"
     ]
    }
   ],
   "source": [
    "svr_grw_mse_5 = get_svm_model_not_poly(X_grw_5_pca, y_grw)\n",
    "svr_grw_mse.append(svr_grw_mse_5)"
   ]
  },
  {
   "cell_type": "code",
   "execution_count": 149,
   "metadata": {},
   "outputs": [
    {
     "name": "stdout",
     "output_type": "stream",
     "text": [
      "R-squared: -0.00462418648048023\n"
     ]
    }
   ],
   "source": [
    "svr_grw_5 = SVR(C = 0.1, gamma = 0.01, kernel = 'rbf')\n",
    "svr_grw_r2_5 = cross_val_score(estimator = svr_grw_5, X = X_grw_5_pca, y = y_grw, scoring='r2', cv=10, n_jobs=-1)\n",
    "print('R-squared:',svr_grw_r2_5.mean())\n",
    "svr_grw_r2.append(svr_grw_r2_5.mean())"
   ]
  },
  {
   "cell_type": "code",
   "execution_count": 88,
   "metadata": {
    "colab": {},
    "colab_type": "code",
    "id": "9UeudEcPBwCE"
   },
   "outputs": [
    {
     "name": "stdout",
     "output_type": "stream",
     "text": [
      "Best Parameters:\n",
      " {'C': 100, 'gamma': 0.0001, 'kernel': 'rbf'}\n",
      "Best Score:\n",
      " 56.06325275161315\n"
     ]
    }
   ],
   "source": [
    "svr_tfl_mse_2 = get_svm_model(X_tfl_2_pls, y_tfl)\n",
    "svr_tfl_mse.append(svr_tfl_mse_2)"
   ]
  },
  {
   "cell_type": "code",
   "execution_count": 150,
   "metadata": {},
   "outputs": [
    {
     "name": "stdout",
     "output_type": "stream",
     "text": [
      "R-squared: 0.8911774392940999\n"
     ]
    }
   ],
   "source": [
    "svr_tfl_2 = SVR(C = 100, gamma = 0.0001, kernel = 'rbf')\n",
    "svr_tfl_r2_2 = cross_val_score(estimator = svr_tfl_2, X = X_tfl_2_pls, y = y_tfl, scoring='r2', cv=10, n_jobs=-1)\n",
    "print('R-squared:',svr_tfl_r2_2.mean())\n",
    "svr_tfl_r2.append(svr_tfl_r2_2.mean())"
   ]
  },
  {
   "cell_type": "code",
   "execution_count": 89,
   "metadata": {
    "colab": {},
    "colab_type": "code",
    "id": "oIWgvEwpBwCG"
   },
   "outputs": [
    {
     "name": "stdout",
     "output_type": "stream",
     "text": [
      "Best Parameters:\n",
      " {'C': 100, 'gamma': 0.0001, 'kernel': 'rbf'}\n",
      "Best Score:\n",
      " 12.636909645729169\n"
     ]
    }
   ],
   "source": [
    "svr_tfl_mse_3 = get_svm_model(X_tfl_3_pls, y_tfl)\n",
    "svr_tfl_mse.append(svr_tfl_mse_3)"
   ]
  },
  {
   "cell_type": "code",
   "execution_count": 151,
   "metadata": {},
   "outputs": [
    {
     "name": "stdout",
     "output_type": "stream",
     "text": [
      "R-squared: 0.9753886236422342\n"
     ]
    }
   ],
   "source": [
    "svr_tfl_3 = SVR(C = 100, gamma = 0.0001, kernel = 'rbf')\n",
    "svr_tfl_r2_3 = cross_val_score(estimator = svr_tfl_3, X = X_tfl_3_pls, y = y_tfl, scoring='r2', cv=10, n_jobs=-1)\n",
    "print('R-squared:',svr_tfl_r2_3.mean())\n",
    "svr_tfl_r2.append(svr_tfl_r2_3.mean())"
   ]
  },
  {
   "cell_type": "code",
   "execution_count": 90,
   "metadata": {
    "colab": {},
    "colab_type": "code",
    "id": "XR8C208uBwCH"
   },
   "outputs": [
    {
     "name": "stdout",
     "output_type": "stream",
     "text": [
      "Best Parameters:\n",
      " {'C': 100, 'gamma': 0.0001, 'kernel': 'rbf'}\n",
      "Best Score:\n",
      " 2.681097821571568\n"
     ]
    }
   ],
   "source": [
    "svr_tfl_mse_4 = get_svm_model(X_tfl_4_pls, y_tfl)\n",
    "svr_tfl_mse.append(svr_tfl_mse_4)"
   ]
  },
  {
   "cell_type": "code",
   "execution_count": 152,
   "metadata": {},
   "outputs": [
    {
     "name": "stdout",
     "output_type": "stream",
     "text": [
      "R-squared: 0.9947569683169221\n"
     ]
    }
   ],
   "source": [
    "svr_tfl_4 = SVR(C = 100, gamma = 0.0001, kernel = 'rbf')\n",
    "svr_tfl_r2_4 = cross_val_score(estimator = svr_tfl_4, X = X_tfl_4_pls, y = y_tfl, scoring='r2', cv=10, n_jobs=-1)\n",
    "print('R-squared:',svr_tfl_r2_4.mean())\n",
    "svr_tfl_r2.append(svr_tfl_r2_4.mean())"
   ]
  },
  {
   "cell_type": "code",
   "execution_count": 91,
   "metadata": {
    "colab": {},
    "colab_type": "code",
    "id": "smsSPU7qBwCK"
   },
   "outputs": [
    {
     "name": "stdout",
     "output_type": "stream",
     "text": [
      "Best Parameters:\n",
      " {'C': 100, 'gamma': 0.0001, 'kernel': 'rbf'}\n",
      "Best Score:\n",
      " 8.943451299147808\n"
     ]
    }
   ],
   "source": [
    "svr_tfl_mse_5 = get_svm_model(X_tfl_5_pls, y_tfl)\n",
    "svr_tfl_mse.append(svr_tfl_mse_5)"
   ]
  },
  {
   "cell_type": "code",
   "execution_count": 153,
   "metadata": {},
   "outputs": [
    {
     "name": "stdout",
     "output_type": "stream",
     "text": [
      "R-squared: 0.9824866652146588\n"
     ]
    }
   ],
   "source": [
    "svr_tfl_5 = SVR(C = 100, gamma = 0.0001, kernel = 'rbf')\n",
    "svr_tfl_r2_5 = cross_val_score(estimator = svr_tfl_5, X = X_tfl_5_pls, y = y_tfl, scoring='r2', cv=10, n_jobs=-1)\n",
    "print('R-squared:',svr_tfl_r2_5.mean())\n",
    "svr_tfl_r2.append(svr_tfl_r2_5.mean())"
   ]
  },
  {
   "cell_type": "code",
   "execution_count": 92,
   "metadata": {
    "colab": {},
    "colab_type": "code",
    "id": "R2pp1YOFBwCN"
   },
   "outputs": [
    {
     "name": "stdout",
     "output_type": "stream",
     "text": [
      "Best Parameters:\n",
      " {'C': 10, 'gamma': 0.0001, 'kernel': 'rbf'}\n",
      "Best Score:\n",
      " 538.7043812316134\n"
     ]
    }
   ],
   "source": [
    "svr_tfl_mse_6 = get_svm_model_not_poly(X_tfl_6_pca, y_tfl)\n",
    "svr_tfl_mse.append(svr_tfl_mse_6)"
   ]
  },
  {
   "cell_type": "code",
   "execution_count": 154,
   "metadata": {},
   "outputs": [
    {
     "name": "stdout",
     "output_type": "stream",
     "text": [
      "R-squared: -0.042206089573184814\n"
     ]
    }
   ],
   "source": [
    "svr_tfl_6 = SVR(C = 10, gamma = 0.0001, kernel = 'rbf')\n",
    "svr_tfl_r2_6 = cross_val_score(estimator = svr_tfl_6, X = X_tfl_6_pca, y = y_tfl, scoring='r2', cv=10, n_jobs=-1)\n",
    "print('R-squared:',svr_tfl_r2_6.mean())\n",
    "svr_tfl_r2.append(svr_tfl_r2_6.mean())"
   ]
  },
  {
   "cell_type": "code",
   "execution_count": 93,
   "metadata": {
    "colab": {},
    "colab_type": "code",
    "id": "Rt2TpnJUBwCP"
   },
   "outputs": [
    {
     "name": "stdout",
     "output_type": "stream",
     "text": [
      "Best Parameters:\n",
      " {'C': 10, 'gamma': 0.001, 'kernel': 'sigmoid'}\n",
      "Best Score:\n",
      " 538.1772798465767\n"
     ]
    }
   ],
   "source": [
    "svr_tfl_mse_7 = get_svm_model_not_poly(X_tfl_7_pca, y_tfl)\n",
    "svr_tfl_mse.append(svr_tfl_mse_7)"
   ]
  },
  {
   "cell_type": "code",
   "execution_count": 155,
   "metadata": {},
   "outputs": [
    {
     "name": "stdout",
     "output_type": "stream",
     "text": [
      "R-squared: -0.04084826982419741\n"
     ]
    }
   ],
   "source": [
    "svr_tfl_7 = SVR(C = 10, gamma = 0.001, kernel = 'sigmoid')\n",
    "svr_tfl_r2_7 = cross_val_score(estimator = svr_tfl_7, X = X_tfl_7_pca, y = y_tfl, scoring='r2', cv=10, n_jobs=-1)\n",
    "print('R-squared:',svr_tfl_r2_7.mean())\n",
    "svr_tfl_r2.append(svr_tfl_r2_7.mean())"
   ]
  },
  {
   "cell_type": "code",
   "execution_count": 94,
   "metadata": {
    "colab": {},
    "colab_type": "code",
    "id": "W6862b14BwCQ"
   },
   "outputs": [
    {
     "name": "stdout",
     "output_type": "stream",
     "text": [
      "Best Parameters:\n",
      " {'C': 100, 'gamma': 0.001, 'kernel': 'rbf'}\n",
      "Best Score:\n",
      " 540.8689846761142\n"
     ]
    }
   ],
   "source": [
    "svr_tfl_mse_8 = get_svm_model_not_poly(X_tfl_8_pca, y_tfl)\n",
    "svr_tfl_mse.append(svr_tfl_mse_8)"
   ]
  },
  {
   "cell_type": "code",
   "execution_count": 156,
   "metadata": {},
   "outputs": [
    {
     "name": "stdout",
     "output_type": "stream",
     "text": [
      "R-squared: -0.04584549475132514\n"
     ]
    }
   ],
   "source": [
    "svr_tfl_8 = SVR(C = 100, gamma = 0.001, kernel = 'rbf')\n",
    "svr_tfl_r2_8 = cross_val_score(estimator = svr_tfl_8, X = X_tfl_8_pca, y = y_tfl, scoring='r2', cv=10, n_jobs=-1)\n",
    "print('R-squared:',svr_tfl_r2_8.mean())\n",
    "svr_tfl_r2.append(svr_tfl_r2_8.mean())"
   ]
  },
  {
   "cell_type": "markdown",
   "metadata": {
    "colab_type": "text",
    "id": "-UuQmyAWkfEi"
   },
   "source": [
    "#### 2.2.3 Lasso and Multi Task Lasso"
   ]
  },
  {
   "cell_type": "code",
   "execution_count": 136,
   "metadata": {
    "colab": {},
    "colab_type": "code",
    "id": "GT6HvZGoIxOb"
   },
   "outputs": [],
   "source": [
    "def get_lasso_cv(X, y):\n",
    "\n",
    "  # Parameter grid\n",
    "  ls_param_grid = {'alpha': [ 0.1, 0.01, 0.001, 0.0001, 1, 10, 100]} \n",
    "  # Create Lasso grid search regressor\n",
    "  ls_grid = GridSearchCV(estimator = Lasso(), param_grid= ls_param_grid, cv=10, scoring='neg_mean_squared_error', n_jobs=-1)\n",
    "#copy_X=False, normalize = True\n",
    "  # Train the regressor\n",
    "  ls_grid.fit(X, y)\n",
    "\n",
    "  print(\"Best Parameters:\\n\", ls_grid.best_params_)\n",
    "  print(\"Best Score:\\n\", -ls_grid.best_score_)\n",
    "\n",
    "  model_lasso = Lasso(alpha = ls_grid.best_params_['alpha']).fit(X, y)\n",
    "  coef = pd.DataFrame(model_lasso.coef_.T, index = X.columns)\n",
    "\n",
    "  var = list(coef[coef[0] != 0].index)\n",
    "  print(coef.head())\n",
    "  print(\"Lasso picked \" + str(sum(coef[0] != 0)) + \" variables and eliminated the other \" +  str(sum(coef[0] == 0)) + \" variables\")\n",
    "  print(\"CV Results:\\n\", ls_grid.cv_results_)\n",
    "  return(var)"
   ]
  },
  {
   "cell_type": "code",
   "execution_count": 135,
   "metadata": {
    "colab": {},
    "colab_type": "code",
    "id": "VulMdBUpJDAY"
   },
   "outputs": [],
   "source": [
    "def get_multitask_lasso_cv(X, y):\n",
    "\n",
    "  # Parameter grid\n",
    "  ls_param_grid = {'alpha': [ 0.1, 0.01, 0.001, 0.0001, 1, 10, 100]} \n",
    "  # Create Lasso grid search regressor\n",
    "  ls_grid = GridSearchCV(estimator = MultiTaskLasso(), param_grid= ls_param_grid, cv=10, scoring='neg_mean_squared_error', n_jobs=-1)\n",
    "#copy_X=False, normalize = True\n",
    "  # Train the regressor\n",
    "  ls_grid.fit(X, y)\n",
    "\n",
    "  print(\"Best Parameters:\\n\", ls_grid.best_params_)\n",
    "  print(\"Best Score:\\n\", -ls_grid.best_score_)\n",
    "\n",
    "  model_lasso = MultiTaskLasso(alpha = ls_grid.best_params_['alpha']).fit(X, y)\n",
    "  coef = pd.DataFrame(model_lasso.coef_.T, index = X.columns)\n",
    "  var = list(coef[coef[0] != 0].index)\n",
    "  print(coef.head())\n",
    "  print(\"Lasso picked \" + str(sum(coef[0] != 0)) + \" variables and eliminated the other \" +  str(sum(coef[0] == 0)) + \" variables\")\n",
    "  print(\"CV Results:\\n\", ls_grid.cv_results_)\n",
    "  return(var)"
   ]
  },
  {
   "cell_type": "code",
   "execution_count": null,
   "metadata": {
    "colab": {},
    "colab_type": "code",
    "id": "sjEtqitiJJsB"
   },
   "outputs": [],
   "source": [
    "var_tfl_ls = get_lasso_cv(X_cont, y_tfl)"
   ]
  },
  {
   "cell_type": "code",
   "execution_count": null,
   "metadata": {},
   "outputs": [],
   "source": [
    "lasso_tfl = Lasso(alpha = 0.01)\n",
    "r2_tfl= cross_val_score(estimator = lasso_tfl , X = X_cont, y = y_tfl, scoring='r2', cv=10, n_jobs=-1)\n",
    "print('R-squared:', r2_tfl.mean())"
   ]
  },
  {
   "cell_type": "code",
   "execution_count": null,
   "metadata": {
    "colab": {},
    "colab_type": "code",
    "id": "pBZ9TLKGJMdb"
   },
   "outputs": [],
   "source": [
    "var_grw_ls = get_lasso_cv(X_cont, y_grw)"
   ]
  },
  {
   "cell_type": "code",
   "execution_count": null,
   "metadata": {},
   "outputs": [],
   "source": [
    "lasso_grw = Lasso(alpha = 0.01)\n",
    "r2_grw= cross_val_score(estimator = lasso_grw , X = X_cont, y = y_grw, scoring='r2', cv=10, n_jobs=-1)\n",
    "print('R-squared:', r2_grw.mean())"
   ]
  },
  {
   "cell_type": "code",
   "execution_count": null,
   "metadata": {
    "colab": {},
    "colab_type": "code",
    "id": "Mwp7Wy-5JOrX"
   },
   "outputs": [],
   "source": [
    "var_tfl_grw_ls = get_multitask_lasso_cv(X_cont, y_tfl_grw)"
   ]
  },
  {
   "cell_type": "code",
   "execution_count": null,
   "metadata": {},
   "outputs": [],
   "source": [
    "lasso_tfl_grw = MultiTaskLasso(alpha = 1)\n",
    "r2_tfl_grw= cross_val_score(estimator = lasso_tfl_grw , X = X_cont, y = y_tfl_grw, scoring='r2', cv=10, n_jobs=-1)\n",
    "print('R-squared:', r2_tfl_grw.mean())"
   ]
  },
  {
   "cell_type": "code",
   "execution_count": null,
   "metadata": {},
   "outputs": [],
   "source": [
    "var_tfl_ls.to_csv('gs://bi-rice-data/var_tfl_ls.csv')\n",
    "var_grw_ls.to_csv('gs://bi-rice-data/var_grw_ls.csv')\n",
    "var_tfl_grw_ls.to_csv('gs://bi-rice-data/var_tfl_grw_ls.csv')"
   ]
  },
  {
   "cell_type": "markdown",
   "metadata": {
    "colab_type": "text",
    "id": "ObJLMSroUc2B"
   },
   "source": [
    "#### 2.2.4 Elastic Net and Multi Task Elastic Net"
   ]
  },
  {
   "cell_type": "code",
   "execution_count": null,
   "metadata": {},
   "outputs": [],
   "source": [
    "def get_elasticnet(X, y): \n",
    "  # Parameter grid\n",
    "  el_param_grid = {'alpha': [ 0.1, 0.01, 0.001, 0.0001, 1, 10, 100], 'l1_ratio': [0, 0.5, 1]} \n",
    "  # Create Lasso grid search regressor\n",
    "  el_grid = GridSearchCV(estimator = ElasticNet(), param_grid= el_param_grid, cv=10, scoring='neg_mean_squared_error', n_jobs=-1)\n",
    "  # Train the regressor\n",
    "  el_grid.fit(X, y)\n",
    "\n",
    "  print(\"Best Parameters:\\n\", el_grid.best_params_)\n",
    "  print(\"Best Score:\\n\", -el_grid.best_score_)\n",
    "\n",
    "  model_lasso = ElasticNet(alpha = el_grid.best_params_['alpha']).fit(X, y)\n",
    "  coef = pd.DataFrame(model_lasso.coef_.T, index = X.columns)\n",
    "\n",
    "  var = list(coef[coef[0] != 0].index)\n",
    "  print(coef.head())\n",
    "  print(\"ElasticNet picked \" + str(sum(coef[0] != 0)) + \" variables and eliminated the other \" +  str(sum(coef[0] == 0)) + \" variables\")\n",
    "  print(\"CV Results:\\n\", el_grid.cv_results_)\n",
    "  return(var)"
   ]
  },
  {
   "cell_type": "code",
   "execution_count": null,
   "metadata": {},
   "outputs": [],
   "source": [
    "def get_multitask_elasticnet(X, y): \n",
    "  # Parameter grid\n",
    "  el_param_grid = {'alpha': [ 0.1, 0.01, 0.001, 0.0001, 1, 10, 100], 'l1_ratio': [0, 0.5, 1]} \n",
    "  # Create Lasso grid search regressor\n",
    "  el_grid = GridSearchCV(estimator = MultiTaskElasticNet(), param_grid= el_param_grid, cv=10, scoring='neg_mean_squared_error', n_jobs=-1)\n",
    "  # Train the regressor\n",
    "  el_grid.fit(X, y)\n",
    "\n",
    "  print(\"Best Parameters:\\n\", el_grid.best_params_)\n",
    "  print(\"Best Score:\\n\", -el_grid.best_score_)\n",
    "\n",
    "  model_lasso = MultiTaskElasticNet(alpha = el_grid.best_params_['alpha']).fit(X, y)\n",
    "  coef = pd.DataFrame(model_lasso.coef_.T, index = X.columns)\n",
    "\n",
    "  var = list(coef[coef[0] != 0].index)\n",
    "  print(coef.head())\n",
    "  print(\"ElasticNet picked \" + str(sum(coef[0] != 0)) + \" variables and eliminated the other \" +  str(sum(coef[0] == 0)) + \" variables\")\n",
    "  print(\"CV Results:\\n\", el_grid.cv_results_)\n",
    "  return(var)"
   ]
  },
  {
   "cell_type": "code",
   "execution_count": null,
   "metadata": {},
   "outputs": [],
   "source": [
    "var_tfl_el = get_elasticnet(X_cont, y_tfl)"
   ]
  },
  {
   "cell_type": "code",
   "execution_count": null,
   "metadata": {},
   "outputs": [],
   "source": [
    "el_tfl = ElasticNet(alpha = 1, l1_ratio = 0)\n",
    "r2_tfl_el= cross_val_score(estimator = el_tfl  , X = X_cont, y = y_tfl, scoring='r2', cv=10, n_jobs=-1)\n",
    "print('R-squared:', r2_tfl_el.mean())"
   ]
  },
  {
   "cell_type": "code",
   "execution_count": null,
   "metadata": {},
   "outputs": [],
   "source": [
    "var_grw_el = get_elasticnet(X_cont, y_grw)"
   ]
  },
  {
   "cell_type": "code",
   "execution_count": null,
   "metadata": {},
   "outputs": [],
   "source": [
    "el_grw = ElasticNet(alpha = 1, l1_ratio = 0)\n",
    "r2_grw_el= cross_val_score(estimator = el_grw  , X = X_cont, y = y_grw, scoring='r2', cv=10, n_jobs=-1)\n",
    "print('R-squared:', r2_grw_el.mean())"
   ]
  },
  {
   "cell_type": "code",
   "execution_count": null,
   "metadata": {},
   "outputs": [],
   "source": [
    "var_tfl_grw_el = get_multitask_elasticnet(X_cont, y_tfl_grw)"
   ]
  },
  {
   "cell_type": "code",
   "execution_count": null,
   "metadata": {},
   "outputs": [],
   "source": [
    "el_tfl_grw = ElasticNet(alpha = 1, l1_ratio = 0)\n",
    "r2_tfl_grw_el= cross_val_score(estimator = el_tfl_grw  , X = X_cont, y = y_tfl_grw, scoring='r2', cv=10, n_jobs=-1)\n",
    "print('R-squared:', r2_tfl_grw_el.mean())"
   ]
  },
  {
   "cell_type": "code",
   "execution_count": null,
   "metadata": {},
   "outputs": [],
   "source": [
    "var_tfl_el.to_csv('gs://bi-rice-data/var_tfl_el.csv')\n",
    "var_grw_el.to_csv('gs://bi-rice-data/var_grw_el.csv')\n",
    "var_tfl_grw_el.to_csv('gs://bi-rice-data/var_tfl_grw_el.csv')"
   ]
  },
  {
   "cell_type": "markdown",
   "metadata": {},
   "source": [
    "## 3 Results"
   ]
  },
  {
   "cell_type": "markdown",
   "metadata": {},
   "source": [
    "One will compare r-squared and root mean square error between random forest model and support vector machine model."
   ]
  },
  {
   "cell_type": "code",
   "execution_count": 173,
   "metadata": {},
   "outputs": [],
   "source": [
    "p_value = ['<=5e-8','<=5e-7', '<=5e-6', '<=5e-5', '<=5e-4', '<=5e-3', '<=5e-2']"
   ]
  },
  {
   "cell_type": "code",
   "execution_count": 189,
   "metadata": {},
   "outputs": [],
   "source": [
    "grw_mse = pd.DataFrame({'rf_grw_mse':rf_grw_mse[::-1], 'svr_grw_mse':svr_grw_mse[::-1]})\n",
    "grw_mse.set_index(pd.Index(p_value[3:7]), 'p_value', inplace = True)\n",
    "\n",
    "grw_r2 = pd.DataFrame({'rf_grw_r2':rf_grw_r2[::-1], 'svr_grw_r2':svr_grw_r2[::-1]})\n",
    "grw_r2.set_index(pd.Index(p_value[3:7]), 'p_value', inplace = True)\n",
    "\n",
    "tfl_mse = pd.DataFrame({'rf_tfl_mse':rf_tfl_mse[::-1], 'svr_tfl_mse':svr_tfl_mse[::-1]})\n",
    "tfl_mse.set_index(pd.Index(p_value), 'p_value', inplace = True)\n",
    "\n",
    "tfl_r2 = pd.DataFrame({'rf_tfl_r2':rf_tfl_r2[::-1], 'svr_tfl_r2':svr_tfl_r2[::-1]})\n",
    "tfl_r2.set_index(pd.Index(p_value), 'p_value', inplace = True)\n",
    "\n",
    "tfl_grw_mse = pd.DataFrame({'rf_tfl_grw_mse':rf_tfl_grw_mse[::-1]})\n",
    "tfl_grw_mse.set_index(pd.Index(p_value[5:7]), 'p_value', inplace = True)\n",
    "\n",
    "tfl_grw_r2 = pd.DataFrame({'rf_tfl_grw_r2':rf_tfl_grw_r2[::-1]})\n",
    "tfl_grw_r2.set_index(pd.Index(p_value[5:7]), 'p_value', inplace = True)"
   ]
  },
  {
   "cell_type": "markdown",
   "metadata": {},
   "source": [
    "### 3.1 Output Data Is Grain Weight"
   ]
  },
  {
   "cell_type": "markdown",
   "metadata": {},
   "source": [
    "Mean squared error between random forest and support vector machine."
   ]
  },
  {
   "cell_type": "code",
   "execution_count": 193,
   "metadata": {},
   "outputs": [
    {
     "data": {
      "text/plain": [
       "<matplotlib.legend.Legend at 0x7f375674b470>"
      ]
     },
     "execution_count": 193,
     "metadata": {},
     "output_type": "execute_result"
    },
    {
     "data": {
      "image/png": "[encoded data removed]",
      "text/plain": [
       "<Figure size 864x648 with 1 Axes>"
      ]
     },
     "metadata": {
      "needs_background": "light"
     },
     "output_type": "display_data"
    }
   ],
   "source": [
    "styles = ['bo-','ro-']\n",
    "linewidths = [1, 1]\n",
    "fig, ax = plt.subplots()\n",
    "\n",
    "for col, style, lw in zip(grw_mse.columns, styles, linewidths):\n",
    "    grw_mse[col].plot(style=style, lw=lw, ax=ax, figsize = (12, 9), fontsize = 14 )\n",
    "\n",
    "plt.xlabel('p-value', fontsize=14)\n",
    "plt.ylabel('Mean squared error', fontsize=14) \n",
    "plt. title('Model Evaluation of Grain Weight by Mean Squared Error', fontsize=14)\n",
    "plt.legend(loc=2, prop={'size': 14})"
   ]
  },
  {
   "cell_type": "markdown",
   "metadata": {},
   "source": [
    "R-squared between random forest and support vector machine."
   ]
  },
  {
   "cell_type": "code",
   "execution_count": 192,
   "metadata": {},
   "outputs": [
    {
     "data": {
      "text/plain": [
       "<matplotlib.legend.Legend at 0x7f375c797208>"
      ]
     },
     "execution_count": 192,
     "metadata": {},
     "output_type": "execute_result"
    },
    {
     "data": {
      "image/png": "[encoded data removed]",
      "text/plain": [
       "<Figure size 864x648 with 1 Axes>"
      ]
     },
     "metadata": {
      "needs_background": "light"
     },
     "output_type": "display_data"
    }
   ],
   "source": [
    "styles = ['bs--','rs--']\n",
    "linewidths = [1, 1]\n",
    "fig, ax = plt.subplots()\n",
    "\n",
    "for col, style, lw in zip(grw_r2.columns, styles, linewidths):\n",
    "    grw_r2[col].plot(style=style, lw=lw, ax=ax, figsize = (12, 9), fontsize = 14 )\n",
    "\n",
    "plt.xlabel('p-value', fontsize=14)\n",
    "plt.ylabel('R-squared', fontsize=14) \n",
    "plt. title('Model Evaluation of Grain Weight by R-squared', fontsize=14)\n",
    "plt.legend(loc=2, prop={'size': 14})"
   ]
  },
  {
   "cell_type": "markdown",
   "metadata": {},
   "source": [
    "### 3.2 Output Data Is Time to Flowering"
   ]
  },
  {
   "cell_type": "markdown",
   "metadata": {},
   "source": [
    "Mean squared error between random forest and support vector machine."
   ]
  },
  {
   "cell_type": "code",
   "execution_count": 194,
   "metadata": {},
   "outputs": [
    {
     "data": {
      "text/plain": [
       "<matplotlib.legend.Legend at 0x7f3756740cc0>"
      ]
     },
     "execution_count": 194,
     "metadata": {},
     "output_type": "execute_result"
    },
    {
     "data": {
      "image/png": "[encoded data removed]",
      "text/plain": [
       "<Figure size 864x648 with 1 Axes>"
      ]
     },
     "metadata": {
      "needs_background": "light"
     },
     "output_type": "display_data"
    }
   ],
   "source": [
    "styles = ['bo-','ro-']\n",
    "linewidths = [1, 1]\n",
    "fig, ax = plt.subplots()\n",
    "\n",
    "for col, style, lw in zip(tfl_mse.columns, styles, linewidths):\n",
    "    tfl_mse[col].plot(style=style, lw=lw, ax=ax, figsize = (12, 9), fontsize = 14 )\n",
    "\n",
    "plt.xlabel('p-value', fontsize=14)\n",
    "plt.ylabel('Mean squared error', fontsize=14) \n",
    "plt. title('Model Evaluation of Time to Flowering by Mean Squared Error', fontsize=14)\n",
    "plt.legend(loc=2, prop={'size': 14})"
   ]
  },
  {
   "cell_type": "markdown",
   "metadata": {},
   "source": [
    "R-squared between random forest and support vector machine."
   ]
  },
  {
   "cell_type": "code",
   "execution_count": 195,
   "metadata": {},
   "outputs": [
    {
     "data": {
      "text/plain": [
       "<matplotlib.legend.Legend at 0x7f3756eec710>"
      ]
     },
     "execution_count": 195,
     "metadata": {},
     "output_type": "execute_result"
    },
    {
     "data": {
      "image/png": "[encoded data removed]",
      "text/plain": [
       "<Figure size 864x648 with 1 Axes>"
      ]
     },
     "metadata": {
      "needs_background": "light"
     },
     "output_type": "display_data"
    }
   ],
   "source": [
    "styles = ['bs--','rs--']\n",
    "linewidths = [1, 1]\n",
    "fig, ax = plt.subplots()\n",
    "\n",
    "for col, style, lw in zip(tfl_r2.columns, styles, linewidths):\n",
    "    tfl_r2[col].plot(style=style, lw=lw, ax=ax, figsize = (12, 9), fontsize = 14 )\n",
    "\n",
    "plt.xlabel('p-value', fontsize=14)\n",
    "plt.ylabel('R-squared', fontsize=14) \n",
    "plt. title('Model Evaluation of Time to Flowering by R-squared', fontsize=14)\n",
    "plt.legend(loc=2, prop={'size': 14})"
   ]
  },
  {
   "cell_type": "markdown",
   "metadata": {},
   "source": [
    "### 3.3 Output Data Is Time to Flowering and Grain Weight"
   ]
  },
  {
   "cell_type": "markdown",
   "metadata": {},
   "source": [
    "Mean squared error of random forest."
   ]
  },
  {
   "cell_type": "code",
   "execution_count": 196,
   "metadata": {},
   "outputs": [
    {
     "data": {
      "text/plain": [
       "<matplotlib.legend.Legend at 0x7f37570f5780>"
      ]
     },
     "execution_count": 196,
     "metadata": {},
     "output_type": "execute_result"
    },
    {
     "data": {
      "image/png": "[encoded data removed]",
      "text/plain": [
       "<Figure size 864x648 with 1 Axes>"
      ]
     },
     "metadata": {
      "needs_background": "light"
     },
     "output_type": "display_data"
    }
   ],
   "source": [
    "styles = ['bo-','ro-']\n",
    "linewidths = [1, 1]\n",
    "fig, ax = plt.subplots()\n",
    "\n",
    "for col, style, lw in zip(tfl_grw_mse.columns, styles, linewidths):\n",
    "    tfl_grw_mse[col].plot(style=style, lw=lw, ax=ax, figsize = (12, 9), fontsize = 14 )\n",
    "\n",
    "plt.xlabel('p-value', fontsize=14)\n",
    "plt.ylabel('Mean squared error', fontsize=14) \n",
    "plt. title('Model Evaluation of Time to Flowering and Grain Weight by Mean Squared Error', fontsize=14)\n",
    "plt.legend(loc=2, prop={'size': 14})"
   ]
  },
  {
   "cell_type": "code",
   "execution_count": null,
   "metadata": {},
   "outputs": [],
   "source": [
    "R-squared of random forest."
   ]
  },
  {
   "cell_type": "code",
   "execution_count": 198,
   "metadata": {},
   "outputs": [
    {
     "data": {
      "text/plain": [
       "<matplotlib.legend.Legend at 0x7f375700c320>"
      ]
     },
     "execution_count": 198,
     "metadata": {},
     "output_type": "execute_result"
    },
    {
     "data": {
      "image/png": "[encoded data removed]",
      "text/plain": [
       "<Figure size 864x648 with 1 Axes>"
      ]
     },
     "metadata": {
      "needs_background": "light"
     },
     "output_type": "display_data"
    }
   ],
   "source": [
    "styles = ['bs--','rs--']\n",
    "linewidths = [1, 1]\n",
    "fig, ax = plt.subplots()\n",
    "\n",
    "for col, style, lw in zip(tfl_grw_r2.columns, styles, linewidths):\n",
    "    tfl_grw_r2[col].plot(style=style, lw=lw, ax=ax, figsize = (12, 9), fontsize = 14 )\n",
    "\n",
    "plt.xlabel('p-value', fontsize=14)\n",
    "plt.ylabel('R-squared', fontsize=14) \n",
    "plt. title('Model Evaluation of Time to Flowering and Grain Weight by R-squared', fontsize=14)\n",
    "plt.legend(loc=2, prop={'size': 14})"
   ]
  }
 ],
 "metadata": {
  "accelerator": "TPU",
  "colab": {
   "collapsed_sections": [],
   "machine_shape": "hm",
   "name": "BI_Rice_SNPs_1.ipynb",
   "provenance": [
    {
     "file_id": "1rqaqbHdGBHYDX8IHejEeVSsME1E90Fr8",
     "timestamp": 1579161104272
    },
    {
     "file_id": "184r7LXSGZUg95MDs5__bGZfx9UUKVPrq",
     "timestamp": 1578107603326
    }
   ]
  },
  "kernelspec": {
   "display_name": "Python 3",
   "language": "python",
   "name": "python3"
  },
  "language_info": {
   "codemirror_mode": {
    "name": "ipython",
    "version": 3
   },
   "file_extension": ".py",
   "mimetype": "text/x-python",
   "name": "python",
   "nbconvert_exporter": "python",
   "pygments_lexer": "ipython3",
   "version": "3.5.3"
  }
 },
 "nbformat": 4,
 "nbformat_minor": 4
}
